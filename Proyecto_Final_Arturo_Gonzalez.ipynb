{
 "cells": [
  {
   "cell_type": "markdown",
   "metadata": {
    "id": "4ArscwR19a1D"
   },
   "source": [
    "**Nombre del Cursante:** Arturo González Mendoza\n",
    "\n",
    "**Curso:** Data science comisión 41870\n",
    "\n",
    "\n",
    "**Proyecto Final**\n",
    "\n",
    "Nota. Los calculos para el Bias - Variance estan tardando mucho para los modelos, por lo que se recomienda ejecutar al ultimo. En colab me cierran antes la conexion y  no me arroja resultados\n"
   ]
  },
  {
   "cell_type": "markdown",
   "metadata": {
    "id": "-f9jdCmotGp1"
   },
   "source": [
    "## Consigna de la entrega"
   ]
  },
  {
   "cell_type": "markdown",
   "metadata": {
    "id": "XLTB0Dbt9m1B"
   },
   "source": [
    "(![Google Drive Image](https://drive.google.com/uc?export=view&id=1M_rQfF0Bm0mikde4V78oUa-Wo77S_QgT)\n",
    "\n",
    "\n",
    "\n",
    "(![Google Drive Image](https://drive.google.com/uc?export=view&id=1I-X1mdxrGYiwziQC1jNVtaVXrLL7rGKb)\n",
    "\n",
    "\n",
    "\n",
    "(![Google Drive Image](https://drive.google.com/uc?export=view&id=1E61YbVT4CeFsE399X-JW9gAoSNDK_PK1)\n",
    "\n",
    "\n",
    "\n",
    "(![Google Drive Image](https://drive.google.com/uc?export=view&id=12n-ScPz5VQGtuhCPiyRyyBBZDBYARDpZ)\n",
    "\n",
    "\n",
    "\n",
    "\n",
    "\n",
    "\n",
    "\n",
    "\n",
    "\n",
    "\n",
    "\n",
    "\n",
    "\n",
    "\n"
   ]
  },
  {
   "cell_type": "markdown",
   "metadata": {
    "id": "EmSKgQjStNRF"
   },
   "source": [
    "## 1. Abstracto con motivación y audencia\n",
    "\n",
    "\n"
   ]
  },
  {
   "cell_type": "markdown",
   "metadata": {
    "id": "Io9plq0I-0WT"
   },
   "source": [
    "\n",
    "**Abstracto con motivación y audencia descripción de alto nivel de lo que motiva analizar los datos elegidos y que tipo de audiencia se podría beneficiar de este análisis.**\n",
    "\n",
    "El presente trabajo tiene como objeto identifcar las variables a recolector  que influyen en el proceso de otorgamiento en la línea de crédito en linea. Hoy en día los creditos se pueden otogar de manera inmediata y atraves de un simple proceso en linea, sin embargo no hay suficientes recursos humanos que puedan interpretar la información en el momento para determinar si es posible otorgar un credito. Es por esto que una posible alternativa, es el uso de machine learning en donde utilizando datos personales del usuario, y de su localidad, se puede determinar en el momento si se le otorga un credito, minimizando los riesgos de que el usuario al que se le otorgue el credito no realice el pago de este.\n",
    "\n",
    "Es por eso que este proyecto tiene como proposito identificar las variables importantes para el otorgamiento de un credito y crear un modelo de machine learning que evalue si la persona es candidata o no al credito.\n",
    "\n",
    "\n",
    "Audiencia\n",
    "Este análisis intenta mostrar con evidencia, aquellos datos personales útiles para el otorgamiento de un credito inmediato. Es por eso que este modelado esta orientado a todas las personas que tienen un negocio de prestamos o a intituciones financieras que quieran agilizar sus procesos de otorgamientos de credito.\n",
    "\n"
   ]
  },
  {
   "cell_type": "markdown",
   "metadata": {
    "id": "U0KQRb_gCqJq"
   },
   "source": [
    "El conjunto de datos a utilizar esta compuesto por dos fuentes de datos diferentes.\n",
    "\n",
    "El primer dataset pertenece a un Hackathon organizado por \"Univ.AI\".\n",
    "\n",
    "URL: https://www.kaggle.com/datasets/pragatiganguly/loan-risk-case-study-merged-and-cleaned-data\n",
    "\n",
    "En este dataset se incluyen algunos datos personales de prestamistas tales como \"Edad\", \"Ingreso\", \"Experiencia en trabajo\", entre otros. Además de los datos personales el dataset seleccionado de préstamos incluyen datos de censo y demografía del estado del solicitante. En total el Dataset este compuesto por un total de 21 columnas.\n",
    "\n",
    "En este caso el dataset provisto está pensado en poder determinar a un solicitante de manera automática y en tiempo real si este es aprobado a o no para un crédito. La idea es que el solicitante ingrese datos básicos en línea y estos se complementen con datos demográficos del lugar donde viven, con la finalidad de que el sistema brinde una respuesta.\n",
    "\n",
    "Los nombres de columnas tipos y descripción de estas se define a continuación:\n",
    "\n",
    "|     Columna    |     Nombre                |     Acepta nulo    |     Tipo       |     Descripción                                                                        |\n",
    "|----------------|---------------------------|--------------------|----------------|----------------------------------------------------------------------------------------|\n",
    "|     1          |     Id                    |     No             |     int64      |     Identificador único de la tabla                                                    |\n",
    "|     2          |     Income                |     No             |     int64      |     Ingresos de la persona                                                             |\n",
    "|     3          |     Age                   |     No             |     int64      |     Edad                                                                               |\n",
    "|     4          |     Experience            |     No             |     int64      |     Experiencia de trabajo del usuario                                                 |\n",
    "|     4          |     Marital_Status        |     No             |     object     |     Estado civil del usuario                                                           |\n",
    "|     5          |     House_Ownership       |     No             |     object     |     Valor que indica si la casa es rentada o propia                                    |\n",
    "|     6          |     Car_Ownership         |     No             |     object     |     Valor que indica si el usuario tiene carro o no                                    |\n",
    "|     7          |     Profession            |     No             |     object     |     Valor que indica la profesión del solicitante                                      |\n",
    "|     8          |     CITY                  |     No             |     object     |     Ciudad donde vive el aplicante                                                     |\n",
    "|     9          |     CURRENT_JOB_YRS       |     No             |     int64      |     Años en el trabajo actual                                                          |\n",
    "|     10         |     CURRENT_HOUSE_        |     No             |     int64      |     Años en el                                                                         |\n",
    "|     11         |     Risk_Flag             |     No             |     int64      |     Booleano en donde 1 indica que el usuario a   faltado a el pago de un préstamo.    |\n",
    "|     12         |     Rev_State             |     No             |     object     |     Estado donde vive el solicitante                                                   |\n",
    "|     13         |     State_GDP             |     No             |     int64      |     PIB del Estado del solicitante                                                     |\n",
    "|     14         |     Literacy_Rate         |     No             |     float64    |     Tasa de alfabetización del Estado del solicitante                                  |\n",
    "|     15         |     Population            |     No             |     int64      |     Población del Estado del solicitante                                               |\n",
    "|     16         |     Unemployment          |     No             |     int64      |     Tasa de desempleo del Estado del solicitante                                       |\n",
    "|     17         |     Poverty_Rate          |     No             |     float64    |     Índice de pobreza del Estado del solicitante                                       |\n",
    "|     18         |     Region                |     No             |     object     |     Region del Estado                                                                  |\n",
    "|     19         |     Per_Capita_Income     |     No             |     Decimal    |     Per Capita Income of the state of the applicant                                    |\n",
    "|     20         |     Income_Category       |     No             |     object     |     categoría pertenecen los ingresos                                                  |\n",
    "|     21         |     Age_Group             |     No             |     object     |     Grupo de edad del solicitante                                                      |\n",
    "\n",
    "\n",
    "\n",
    "\n",
    "La segunda parte del dataset se extrajo del siguiente link\n",
    "\n",
    "*   https://github.com/mridulrb/Predict-loan-eligibility-using-IBM-Watson-Studio/blob/master/Dataset\n",
    "\n",
    "\n",
    "\n",
    "\n",
    "Se extrajeron datasets directamente de API publico de Github. Se unieron los datasets que se utilizan y se obtuvieron numero de filas y columnas y tipos de datos por columna\n",
    "\n",
    "Posteriormente se unioron ambos datasets y se realizo una limpieza de datos como se mestra a continuación.\n",
    "\n",
    "\n"
   ]
  },
  {
   "cell_type": "markdown",
   "metadata": {
    "id": "IsNdbMMl8RBO"
   },
   "source": [
    "## 2. Preguntas / Problemas a resolver\n",
    "Hipotesis que queremos responder mediante el analisis de datos\n",
    "\n",
    "\n",
    "####**Hipotesis de interes**\n",
    "\n",
    "La empresa quiere automatizar el proceso de concesión de préstamos (en tiempo real) basándose en los datos que el cliente facilita al cumplimentar los formularios de solicitud en línea.\n",
    "\n",
    "La hipotesis de este trabajo será generar un modelo binario, que permita aprobar los creditos de los usuarios de manera automatizada en base a la columna Risk_Flag, columna 11 donde las personas son consideradas morosas o no.\n",
    "\n",
    "\n",
    "\n",
    "**Hipotesis de variables de datos para el trabajo**\n",
    "\n",
    "A) Se presume que distribución de ingresos es normal y no uniforme. En caso de que la distribucion de ingresos sea normal se puede tratar de identificar el segmento que mayor concentra el salario.\n",
    "\n",
    "B) Se presume que los ingresos en los diferentes categorias de edad son diferentes\n",
    "\n",
    "C) Se considera que los casados tienen más dinero que los solteros\n",
    "\n",
    "D) Los datos demograficos no tienen relacion con el cumplimiento de los creditos\n",
    "\n",
    "E) Los datos Personales representan mayor información para la aprobacion de creditos"
   ]
  },
  {
   "cell_type": "markdown",
   "metadata": {
    "id": "wL0NCj6n9ODa"
   },
   "source": [
    "## 3. Análisis Exploratorio (EDA). Análisis descriptivo de los datos mediante visualizaciones y Feature Engineering"
   ]
  },
  {
   "cell_type": "markdown",
   "metadata": {
    "id": "PvFaPoa29TG7"
   },
   "source": [
    "### Carga de archivos y data wrangling"
   ]
  },
  {
   "cell_type": "code",
   "execution_count": 1,
   "metadata": {
    "id": "d4ImfjVkvRPs"
   },
   "outputs": [],
   "source": [
    "# Importacion de bibliotecas a utilizar\n",
    "\n",
    "# Importación de las bibliotecas a utilziar.\n",
    "import pandas as pd\n",
    "import matplotlib.pyplot as plt\n",
    "import seaborn as sns\n",
    "import numpy as np\n",
    "\n",
    "import statsmodels.api as sm\n",
    "\n",
    "\n",
    "from sklearn.ensemble import RandomForestClassifier\n",
    "from sklearn.model_selection import train_test_split\n",
    "from sklearn import metrics\n",
    "from sklearn.metrics import ConfusionMatrixDisplay\n",
    "\n",
    "# Bibliotecas necesarias para la creación de información sintetica.\n",
    "from sklearn.neighbors import KernelDensity\n",
    "from sklearn.model_selection import GridSearchCV\n",
    "import sklearn.datasets as dt\n",
    "\n",
    "from sklearn.decomposition import PCA\n",
    "from sklearn.impute import SimpleImputer\n",
    "from sklearn.pipeline import Pipeline\n",
    "\n",
    "from sklearn.model_selection import GridSearchCV\n",
    "from sklearn.svm import SVC\n",
    "\n",
    "# Agrehando biblioteca para analisis de bias-variance\n",
    "\n",
    "from sklearn.metrics import accuracy_score\n",
    "from mlxtend.evaluate import bias_variance_decomp\n",
    "\n",
    "from sklearn.tree import DecisionTreeClassifier\n",
    "\n",
    "from sklearn.preprocessing import StandardScaler\n",
    "from sklearn.neighbors import KNeighborsClassifier\n",
    "from sklearn import  tree, ensemble\n",
    "from sklearn.model_selection import cross_val_score,  KFold\n"
   ]
  },
  {
   "cell_type": "code",
   "execution_count": 2,
   "metadata": {
    "id": "3xmT7FJZ1Pgx"
   },
   "outputs": [],
   "source": [
    "# Carga de la primera base de datos\n",
    "url = \"https://raw.githubusercontent.com/canibulin/DataScienceProyectoFinal2023/main/Loan_prediction_final.csv\"\n",
    "df1 = pd.read_csv(url,sep=',', encoding='utf-8')\n",
    "\n"
   ]
  },
  {
   "cell_type": "code",
   "execution_count": 3,
   "metadata": {
    "id": "o4pqkoVo1Xpx"
   },
   "outputs": [],
   "source": [
    "# Carga de la segunda base de datos\n",
    "\n",
    "#Especificamos url de donde vamos  a cargar las tablas desde github\n",
    "url1 = \"https://raw.githubusercontent.com/mridulrb/Predict-loan-eligibility-using-IBM-Watson-Studio/master/Dataset/train_ctrUa4K.csv\"\n",
    "url2 = \"https://raw.githubusercontent.com/mridulrb/Predict-loan-eligibility-using-IBM-Watson-Studio/master/Dataset/test_lAUu6dG.csv\""
   ]
  },
  {
   "cell_type": "code",
   "execution_count": 4,
   "metadata": {
    "id": "G-icaTat1pvg"
   },
   "outputs": [],
   "source": [
    "df2_1 = pd.read_csv(url1)\n",
    "df2_2 = pd.read_csv(url2)"
   ]
  },
  {
   "cell_type": "code",
   "execution_count": 5,
   "metadata": {
    "colab": {
     "base_uri": "https://localhost:8080/"
    },
    "id": "Zzhz4_AS2Fdh",
    "outputId": "06ff8039-af04-41fe-c2f8-23792a8bfc23"
   },
   "outputs": [
    {
     "name": "stderr",
     "output_type": "stream",
     "text": [
      "D:\\ProgramData\\Anaconda3\\lib\\site-packages\\pandas\\core\\reshape\\merge.py:1205: UserWarning: You are merging on int and float columns where the float values are not equal to their int representation.\n",
      "  warnings.warn(\n"
     ]
    }
   ],
   "source": [
    "# Hacemos un Join de las bases de datos que utilizamos como referencia\n",
    "\n",
    "df2_merged = pd.merge(df2_1, df2_2,how=\"outer\")\n"
   ]
  },
  {
   "cell_type": "markdown",
   "metadata": {
    "id": "YYX1HXaB2doh"
   },
   "source": [
    "*Mostramos tipos de fuente de datos 1 y la fuente de datos 2 para visualizar como vas unir los dos conjuntos de tablas*"
   ]
  },
  {
   "cell_type": "code",
   "execution_count": 6,
   "metadata": {
    "colab": {
     "base_uri": "https://localhost:8080/"
    },
    "id": "kvmiYrd92W4Q",
    "outputId": "3a2762d9-cf79-453f-86b4-a27cddde4d36"
   },
   "outputs": [
    {
     "data": {
      "text/plain": [
       "Id                     int64\n",
       "Income                 int64\n",
       "Age                    int64\n",
       "Experience             int64\n",
       "Marital_Status        object\n",
       "House_Ownership       object\n",
       "Car_Ownership         object\n",
       "Profession            object\n",
       "CITY                  object\n",
       "CURRENT_JOB_YRS        int64\n",
       "CURRENT_HOUSE_YRS      int64\n",
       "Risk_Flag              int64\n",
       "Rev_State             object\n",
       "State_GDP            float64\n",
       "Literacy_Rate        float64\n",
       "Population             int64\n",
       "Unemployment           int64\n",
       "Poverty_Rate         float64\n",
       "Region                object\n",
       "Per_Capita_Income    float64\n",
       "Income_Category       object\n",
       "Age_Group             object\n",
       "dtype: object"
      ]
     },
     "execution_count": 6,
     "metadata": {},
     "output_type": "execute_result"
    }
   ],
   "source": [
    "# Resumen de metadata del primer dataset\n",
    "df1.dtypes"
   ]
  },
  {
   "cell_type": "code",
   "execution_count": 7,
   "metadata": {
    "colab": {
     "base_uri": "https://localhost:8080/",
     "height": 236
    },
    "id": "avcZygnR4ZmA",
    "outputId": "85dafeec-982a-441d-e585-e63c9c8aec0f"
   },
   "outputs": [
    {
     "data": {
      "text/html": [
       "<div>\n",
       "<style scoped>\n",
       "    .dataframe tbody tr th:only-of-type {\n",
       "        vertical-align: middle;\n",
       "    }\n",
       "\n",
       "    .dataframe tbody tr th {\n",
       "        vertical-align: top;\n",
       "    }\n",
       "\n",
       "    .dataframe thead th {\n",
       "        text-align: right;\n",
       "    }\n",
       "</style>\n",
       "<table border=\"1\" class=\"dataframe\">\n",
       "  <thead>\n",
       "    <tr style=\"text-align: right;\">\n",
       "      <th></th>\n",
       "      <th>Id</th>\n",
       "      <th>Income</th>\n",
       "      <th>Age</th>\n",
       "      <th>Experience</th>\n",
       "      <th>Marital_Status</th>\n",
       "      <th>House_Ownership</th>\n",
       "      <th>Car_Ownership</th>\n",
       "      <th>Profession</th>\n",
       "      <th>CITY</th>\n",
       "      <th>CURRENT_JOB_YRS</th>\n",
       "      <th>...</th>\n",
       "      <th>Rev_State</th>\n",
       "      <th>State_GDP</th>\n",
       "      <th>Literacy_Rate</th>\n",
       "      <th>Population</th>\n",
       "      <th>Unemployment</th>\n",
       "      <th>Poverty_Rate</th>\n",
       "      <th>Region</th>\n",
       "      <th>Per_Capita_Income</th>\n",
       "      <th>Income_Category</th>\n",
       "      <th>Age_Group</th>\n",
       "    </tr>\n",
       "  </thead>\n",
       "  <tbody>\n",
       "    <tr>\n",
       "      <th>0</th>\n",
       "      <td>1</td>\n",
       "      <td>1303834</td>\n",
       "      <td>23</td>\n",
       "      <td>3</td>\n",
       "      <td>single</td>\n",
       "      <td>rented</td>\n",
       "      <td>no</td>\n",
       "      <td>Mechanical_engineer</td>\n",
       "      <td>Rewa</td>\n",
       "      <td>3</td>\n",
       "      <td>...</td>\n",
       "      <td>Madhya Pradesh</td>\n",
       "      <td>5.645140e+12</td>\n",
       "      <td>75.37</td>\n",
       "      <td>72627000</td>\n",
       "      <td>47</td>\n",
       "      <td>31.65</td>\n",
       "      <td>Central</td>\n",
       "      <td>77727.89321</td>\n",
       "      <td>Low</td>\n",
       "      <td>Young</td>\n",
       "    </tr>\n",
       "    <tr>\n",
       "      <th>1</th>\n",
       "      <td>2</td>\n",
       "      <td>7574516</td>\n",
       "      <td>40</td>\n",
       "      <td>10</td>\n",
       "      <td>single</td>\n",
       "      <td>rented</td>\n",
       "      <td>no</td>\n",
       "      <td>Software_Developer</td>\n",
       "      <td>Parbhani</td>\n",
       "      <td>9</td>\n",
       "      <td>...</td>\n",
       "      <td>Maharashtra</td>\n",
       "      <td>1.889310e+13</td>\n",
       "      <td>94.00</td>\n",
       "      <td>112374000</td>\n",
       "      <td>65</td>\n",
       "      <td>17.35</td>\n",
       "      <td>Western</td>\n",
       "      <td>168126.67170</td>\n",
       "      <td>High</td>\n",
       "      <td>Young</td>\n",
       "    </tr>\n",
       "    <tr>\n",
       "      <th>2</th>\n",
       "      <td>3</td>\n",
       "      <td>3991815</td>\n",
       "      <td>66</td>\n",
       "      <td>4</td>\n",
       "      <td>married</td>\n",
       "      <td>rented</td>\n",
       "      <td>no</td>\n",
       "      <td>Technical_writer</td>\n",
       "      <td>Alappuzha</td>\n",
       "      <td>4</td>\n",
       "      <td>...</td>\n",
       "      <td>Kerala</td>\n",
       "      <td>5.144000e+12</td>\n",
       "      <td>66.41</td>\n",
       "      <td>33406000</td>\n",
       "      <td>116</td>\n",
       "      <td>7.05</td>\n",
       "      <td>Southern</td>\n",
       "      <td>153984.31120</td>\n",
       "      <td>Medium</td>\n",
       "      <td>Senior</td>\n",
       "    </tr>\n",
       "    <tr>\n",
       "      <th>3</th>\n",
       "      <td>4</td>\n",
       "      <td>6256451</td>\n",
       "      <td>41</td>\n",
       "      <td>2</td>\n",
       "      <td>single</td>\n",
       "      <td>rented</td>\n",
       "      <td>yes</td>\n",
       "      <td>Software_Developer</td>\n",
       "      <td>Bhubaneswar</td>\n",
       "      <td>2</td>\n",
       "      <td>...</td>\n",
       "      <td>Odisha</td>\n",
       "      <td>3.814700e+12</td>\n",
       "      <td>74.43</td>\n",
       "      <td>41974000</td>\n",
       "      <td>78</td>\n",
       "      <td>32.59</td>\n",
       "      <td>Eastern</td>\n",
       "      <td>90882.52966</td>\n",
       "      <td>Medium</td>\n",
       "      <td>Middle-Age</td>\n",
       "    </tr>\n",
       "    <tr>\n",
       "      <th>4</th>\n",
       "      <td>5</td>\n",
       "      <td>5768871</td>\n",
       "      <td>47</td>\n",
       "      <td>11</td>\n",
       "      <td>single</td>\n",
       "      <td>rented</td>\n",
       "      <td>no</td>\n",
       "      <td>Civil_servant</td>\n",
       "      <td>Tiruchirappalli[10]</td>\n",
       "      <td>3</td>\n",
       "      <td>...</td>\n",
       "      <td>Tamil Nadu</td>\n",
       "      <td>1.245600e+13</td>\n",
       "      <td>75.84</td>\n",
       "      <td>72147000</td>\n",
       "      <td>58</td>\n",
       "      <td>11.28</td>\n",
       "      <td>Southern</td>\n",
       "      <td>172646.83910</td>\n",
       "      <td>Medium</td>\n",
       "      <td>Middle-Age</td>\n",
       "    </tr>\n",
       "  </tbody>\n",
       "</table>\n",
       "<p>5 rows × 22 columns</p>\n",
       "</div>"
      ],
      "text/plain": [
       "   Id   Income  Age  Experience Marital_Status House_Ownership Car_Ownership  \\\n",
       "0   1  1303834   23           3         single          rented            no   \n",
       "1   2  7574516   40          10         single          rented            no   \n",
       "2   3  3991815   66           4        married          rented            no   \n",
       "3   4  6256451   41           2         single          rented           yes   \n",
       "4   5  5768871   47          11         single          rented            no   \n",
       "\n",
       "            Profession                 CITY  CURRENT_JOB_YRS  ...  \\\n",
       "0  Mechanical_engineer                 Rewa                3  ...   \n",
       "1   Software_Developer             Parbhani                9  ...   \n",
       "2     Technical_writer            Alappuzha                4  ...   \n",
       "3   Software_Developer          Bhubaneswar                2  ...   \n",
       "4        Civil_servant  Tiruchirappalli[10]                3  ...   \n",
       "\n",
       "        Rev_State     State_GDP Literacy_Rate  Population  Unemployment  \\\n",
       "0  Madhya Pradesh  5.645140e+12         75.37    72627000            47   \n",
       "1     Maharashtra  1.889310e+13         94.00   112374000            65   \n",
       "2          Kerala  5.144000e+12         66.41    33406000           116   \n",
       "3          Odisha  3.814700e+12         74.43    41974000            78   \n",
       "4      Tamil Nadu  1.245600e+13         75.84    72147000            58   \n",
       "\n",
       "   Poverty_Rate    Region  Per_Capita_Income Income_Category   Age_Group  \n",
       "0         31.65   Central        77727.89321             Low       Young  \n",
       "1         17.35   Western       168126.67170            High       Young  \n",
       "2          7.05  Southern       153984.31120          Medium      Senior  \n",
       "3         32.59   Eastern        90882.52966          Medium  Middle-Age  \n",
       "4         11.28  Southern       172646.83910          Medium  Middle-Age  \n",
       "\n",
       "[5 rows x 22 columns]"
      ]
     },
     "execution_count": 7,
     "metadata": {},
     "output_type": "execute_result"
    }
   ],
   "source": [
    "df1.head(5)"
   ]
  },
  {
   "cell_type": "code",
   "execution_count": 8,
   "metadata": {
    "colab": {
     "base_uri": "https://localhost:8080/"
    },
    "id": "wqOsD7_y21Zg",
    "outputId": "07c701c7-30b6-42c9-8809-b7220c669a0e"
   },
   "outputs": [
    {
     "data": {
      "text/plain": [
       "Loan_ID               object\n",
       "Gender                object\n",
       "Married               object\n",
       "Dependents            object\n",
       "Education             object\n",
       "Self_Employed         object\n",
       "ApplicantIncome        int64\n",
       "CoapplicantIncome    float64\n",
       "LoanAmount           float64\n",
       "Loan_Amount_Term     float64\n",
       "Credit_History       float64\n",
       "Property_Area         object\n",
       "Loan_Status           object\n",
       "dtype: object"
      ]
     },
     "execution_count": 8,
     "metadata": {},
     "output_type": "execute_result"
    }
   ],
   "source": [
    "# Resumen de metadata del segundo dataset\n",
    "df2_merged.dtypes"
   ]
  },
  {
   "cell_type": "code",
   "execution_count": 9,
   "metadata": {
    "colab": {
     "base_uri": "https://localhost:8080/",
     "height": 206
    },
    "id": "z2hW_buQ4HoR",
    "outputId": "a4c92b3c-8085-46cf-9e16-237d3b7bf83c"
   },
   "outputs": [
    {
     "data": {
      "text/html": [
       "<div>\n",
       "<style scoped>\n",
       "    .dataframe tbody tr th:only-of-type {\n",
       "        vertical-align: middle;\n",
       "    }\n",
       "\n",
       "    .dataframe tbody tr th {\n",
       "        vertical-align: top;\n",
       "    }\n",
       "\n",
       "    .dataframe thead th {\n",
       "        text-align: right;\n",
       "    }\n",
       "</style>\n",
       "<table border=\"1\" class=\"dataframe\">\n",
       "  <thead>\n",
       "    <tr style=\"text-align: right;\">\n",
       "      <th></th>\n",
       "      <th>Loan_ID</th>\n",
       "      <th>Gender</th>\n",
       "      <th>Married</th>\n",
       "      <th>Dependents</th>\n",
       "      <th>Education</th>\n",
       "      <th>Self_Employed</th>\n",
       "      <th>ApplicantIncome</th>\n",
       "      <th>CoapplicantIncome</th>\n",
       "      <th>LoanAmount</th>\n",
       "      <th>Loan_Amount_Term</th>\n",
       "      <th>Credit_History</th>\n",
       "      <th>Property_Area</th>\n",
       "      <th>Loan_Status</th>\n",
       "    </tr>\n",
       "  </thead>\n",
       "  <tbody>\n",
       "    <tr>\n",
       "      <th>0</th>\n",
       "      <td>LP001002</td>\n",
       "      <td>Male</td>\n",
       "      <td>No</td>\n",
       "      <td>0</td>\n",
       "      <td>Graduate</td>\n",
       "      <td>No</td>\n",
       "      <td>5849</td>\n",
       "      <td>0.0</td>\n",
       "      <td>NaN</td>\n",
       "      <td>360.0</td>\n",
       "      <td>1.0</td>\n",
       "      <td>Urban</td>\n",
       "      <td>Y</td>\n",
       "    </tr>\n",
       "    <tr>\n",
       "      <th>1</th>\n",
       "      <td>LP001003</td>\n",
       "      <td>Male</td>\n",
       "      <td>Yes</td>\n",
       "      <td>1</td>\n",
       "      <td>Graduate</td>\n",
       "      <td>No</td>\n",
       "      <td>4583</td>\n",
       "      <td>1508.0</td>\n",
       "      <td>128.0</td>\n",
       "      <td>360.0</td>\n",
       "      <td>1.0</td>\n",
       "      <td>Rural</td>\n",
       "      <td>N</td>\n",
       "    </tr>\n",
       "    <tr>\n",
       "      <th>2</th>\n",
       "      <td>LP001005</td>\n",
       "      <td>Male</td>\n",
       "      <td>Yes</td>\n",
       "      <td>0</td>\n",
       "      <td>Graduate</td>\n",
       "      <td>Yes</td>\n",
       "      <td>3000</td>\n",
       "      <td>0.0</td>\n",
       "      <td>66.0</td>\n",
       "      <td>360.0</td>\n",
       "      <td>1.0</td>\n",
       "      <td>Urban</td>\n",
       "      <td>Y</td>\n",
       "    </tr>\n",
       "    <tr>\n",
       "      <th>3</th>\n",
       "      <td>LP001006</td>\n",
       "      <td>Male</td>\n",
       "      <td>Yes</td>\n",
       "      <td>0</td>\n",
       "      <td>Not Graduate</td>\n",
       "      <td>No</td>\n",
       "      <td>2583</td>\n",
       "      <td>2358.0</td>\n",
       "      <td>120.0</td>\n",
       "      <td>360.0</td>\n",
       "      <td>1.0</td>\n",
       "      <td>Urban</td>\n",
       "      <td>Y</td>\n",
       "    </tr>\n",
       "    <tr>\n",
       "      <th>4</th>\n",
       "      <td>LP001008</td>\n",
       "      <td>Male</td>\n",
       "      <td>No</td>\n",
       "      <td>0</td>\n",
       "      <td>Graduate</td>\n",
       "      <td>No</td>\n",
       "      <td>6000</td>\n",
       "      <td>0.0</td>\n",
       "      <td>141.0</td>\n",
       "      <td>360.0</td>\n",
       "      <td>1.0</td>\n",
       "      <td>Urban</td>\n",
       "      <td>Y</td>\n",
       "    </tr>\n",
       "  </tbody>\n",
       "</table>\n",
       "</div>"
      ],
      "text/plain": [
       "    Loan_ID Gender Married Dependents     Education Self_Employed  \\\n",
       "0  LP001002   Male      No          0      Graduate            No   \n",
       "1  LP001003   Male     Yes          1      Graduate            No   \n",
       "2  LP001005   Male     Yes          0      Graduate           Yes   \n",
       "3  LP001006   Male     Yes          0  Not Graduate            No   \n",
       "4  LP001008   Male      No          0      Graduate            No   \n",
       "\n",
       "   ApplicantIncome  CoapplicantIncome  LoanAmount  Loan_Amount_Term  \\\n",
       "0             5849                0.0         NaN             360.0   \n",
       "1             4583             1508.0       128.0             360.0   \n",
       "2             3000                0.0        66.0             360.0   \n",
       "3             2583             2358.0       120.0             360.0   \n",
       "4             6000                0.0       141.0             360.0   \n",
       "\n",
       "   Credit_History Property_Area Loan_Status  \n",
       "0             1.0         Urban           Y  \n",
       "1             1.0         Rural           N  \n",
       "2             1.0         Urban           Y  \n",
       "3             1.0         Urban           Y  \n",
       "4             1.0         Urban           Y  "
      ]
     },
     "execution_count": 9,
     "metadata": {},
     "output_type": "execute_result"
    }
   ],
   "source": [
    "df2_merged.head(5)"
   ]
  },
  {
   "cell_type": "markdown",
   "metadata": {
    "id": "lhE8GNqtz1eu"
   },
   "source": [
    "#### Data Encoding"
   ]
  },
  {
   "cell_type": "code",
   "execution_count": 10,
   "metadata": {
    "id": "At4sEks940Ig"
   },
   "outputs": [],
   "source": [
    "# Procedemos a cambiar variables categoricas de la primer fuente de datos df1.\n",
    "#Son muchas categorias en dummie vamos a reemplazzar manualmente por numeros\n",
    "df1['Marital_Status'].replace(['single', 'married'],\n",
    "                        [0, 1], inplace=True)\n",
    "df1['House_Ownership'].unique()\n",
    "df1['House_Ownership'].replace(['rented', 'norent_noown', 'owned'],\n",
    "                        [0, 1,2], inplace=True)\n",
    "df1['Car_Ownership'].unique()\n",
    "df1['Car_Ownership'].replace(['no', 'yes'],\n",
    "                        [0, 1], inplace=True)\n",
    "\n",
    "#Borramos columnas con mcuhas categorias que dificultan su analisis\n",
    "df1.drop(['Profession','CITY','Rev_State','Id'], inplace=True, axis=1)\n",
    "df1['Region'].unique()#Lo hago para visualizar campos unicos\n",
    "df1.replace(['Central', 'Western', 'Southern', 'Eastern', 'Northern'],[0,1,2,3,4],inplace=True)\n",
    "df1['Income_Category'].unique()\n",
    "df1.replace(['Low', 'High', 'Medium'],[0,1,2],inplace=True)\n",
    "df1['Age_Group'].unique()\n",
    "df1.replace(['Young', 'Senior', 'Middle-Age'],[0,1,2],inplace=True)"
   ]
  },
  {
   "cell_type": "code",
   "execution_count": 11,
   "metadata": {
    "colab": {
     "base_uri": "https://localhost:8080/",
     "height": 206
    },
    "id": "N0Gs9qBX6IcF",
    "outputId": "ee824c1d-0d06-495b-8f7a-f8d256e96a01"
   },
   "outputs": [
    {
     "data": {
      "text/html": [
       "<div>\n",
       "<style scoped>\n",
       "    .dataframe tbody tr th:only-of-type {\n",
       "        vertical-align: middle;\n",
       "    }\n",
       "\n",
       "    .dataframe tbody tr th {\n",
       "        vertical-align: top;\n",
       "    }\n",
       "\n",
       "    .dataframe thead th {\n",
       "        text-align: right;\n",
       "    }\n",
       "</style>\n",
       "<table border=\"1\" class=\"dataframe\">\n",
       "  <thead>\n",
       "    <tr style=\"text-align: right;\">\n",
       "      <th></th>\n",
       "      <th>Income</th>\n",
       "      <th>Age</th>\n",
       "      <th>Experience</th>\n",
       "      <th>Marital_Status</th>\n",
       "      <th>House_Ownership</th>\n",
       "      <th>Car_Ownership</th>\n",
       "      <th>CURRENT_JOB_YRS</th>\n",
       "      <th>CURRENT_HOUSE_YRS</th>\n",
       "      <th>Risk_Flag</th>\n",
       "      <th>State_GDP</th>\n",
       "      <th>Literacy_Rate</th>\n",
       "      <th>Population</th>\n",
       "      <th>Unemployment</th>\n",
       "      <th>Poverty_Rate</th>\n",
       "      <th>Region</th>\n",
       "      <th>Per_Capita_Income</th>\n",
       "      <th>Income_Category</th>\n",
       "      <th>Age_Group</th>\n",
       "    </tr>\n",
       "  </thead>\n",
       "  <tbody>\n",
       "    <tr>\n",
       "      <th>0</th>\n",
       "      <td>1303834</td>\n",
       "      <td>23</td>\n",
       "      <td>3</td>\n",
       "      <td>0</td>\n",
       "      <td>0</td>\n",
       "      <td>0</td>\n",
       "      <td>3</td>\n",
       "      <td>13</td>\n",
       "      <td>0</td>\n",
       "      <td>5.645140e+12</td>\n",
       "      <td>75.37</td>\n",
       "      <td>72627000</td>\n",
       "      <td>47</td>\n",
       "      <td>31.65</td>\n",
       "      <td>0</td>\n",
       "      <td>77727.89321</td>\n",
       "      <td>0</td>\n",
       "      <td>0</td>\n",
       "    </tr>\n",
       "    <tr>\n",
       "      <th>1</th>\n",
       "      <td>7574516</td>\n",
       "      <td>40</td>\n",
       "      <td>10</td>\n",
       "      <td>0</td>\n",
       "      <td>0</td>\n",
       "      <td>0</td>\n",
       "      <td>9</td>\n",
       "      <td>13</td>\n",
       "      <td>0</td>\n",
       "      <td>1.889310e+13</td>\n",
       "      <td>94.00</td>\n",
       "      <td>112374000</td>\n",
       "      <td>65</td>\n",
       "      <td>17.35</td>\n",
       "      <td>1</td>\n",
       "      <td>168126.67170</td>\n",
       "      <td>1</td>\n",
       "      <td>0</td>\n",
       "    </tr>\n",
       "    <tr>\n",
       "      <th>2</th>\n",
       "      <td>3991815</td>\n",
       "      <td>66</td>\n",
       "      <td>4</td>\n",
       "      <td>1</td>\n",
       "      <td>0</td>\n",
       "      <td>0</td>\n",
       "      <td>4</td>\n",
       "      <td>10</td>\n",
       "      <td>0</td>\n",
       "      <td>5.144000e+12</td>\n",
       "      <td>66.41</td>\n",
       "      <td>33406000</td>\n",
       "      <td>116</td>\n",
       "      <td>7.05</td>\n",
       "      <td>2</td>\n",
       "      <td>153984.31120</td>\n",
       "      <td>2</td>\n",
       "      <td>1</td>\n",
       "    </tr>\n",
       "    <tr>\n",
       "      <th>3</th>\n",
       "      <td>6256451</td>\n",
       "      <td>41</td>\n",
       "      <td>2</td>\n",
       "      <td>0</td>\n",
       "      <td>0</td>\n",
       "      <td>1</td>\n",
       "      <td>2</td>\n",
       "      <td>12</td>\n",
       "      <td>1</td>\n",
       "      <td>3.814700e+12</td>\n",
       "      <td>74.43</td>\n",
       "      <td>41974000</td>\n",
       "      <td>78</td>\n",
       "      <td>32.59</td>\n",
       "      <td>3</td>\n",
       "      <td>90882.52966</td>\n",
       "      <td>2</td>\n",
       "      <td>2</td>\n",
       "    </tr>\n",
       "    <tr>\n",
       "      <th>4</th>\n",
       "      <td>5768871</td>\n",
       "      <td>47</td>\n",
       "      <td>11</td>\n",
       "      <td>0</td>\n",
       "      <td>0</td>\n",
       "      <td>0</td>\n",
       "      <td>3</td>\n",
       "      <td>14</td>\n",
       "      <td>1</td>\n",
       "      <td>1.245600e+13</td>\n",
       "      <td>75.84</td>\n",
       "      <td>72147000</td>\n",
       "      <td>58</td>\n",
       "      <td>11.28</td>\n",
       "      <td>2</td>\n",
       "      <td>172646.83910</td>\n",
       "      <td>2</td>\n",
       "      <td>2</td>\n",
       "    </tr>\n",
       "  </tbody>\n",
       "</table>\n",
       "</div>"
      ],
      "text/plain": [
       "    Income  Age  Experience  Marital_Status  House_Ownership  Car_Ownership  \\\n",
       "0  1303834   23           3               0                0              0   \n",
       "1  7574516   40          10               0                0              0   \n",
       "2  3991815   66           4               1                0              0   \n",
       "3  6256451   41           2               0                0              1   \n",
       "4  5768871   47          11               0                0              0   \n",
       "\n",
       "   CURRENT_JOB_YRS  CURRENT_HOUSE_YRS  Risk_Flag     State_GDP  Literacy_Rate  \\\n",
       "0                3                 13          0  5.645140e+12          75.37   \n",
       "1                9                 13          0  1.889310e+13          94.00   \n",
       "2                4                 10          0  5.144000e+12          66.41   \n",
       "3                2                 12          1  3.814700e+12          74.43   \n",
       "4                3                 14          1  1.245600e+13          75.84   \n",
       "\n",
       "   Population  Unemployment  Poverty_Rate  Region  Per_Capita_Income  \\\n",
       "0    72627000            47         31.65       0        77727.89321   \n",
       "1   112374000            65         17.35       1       168126.67170   \n",
       "2    33406000           116          7.05       2       153984.31120   \n",
       "3    41974000            78         32.59       3        90882.52966   \n",
       "4    72147000            58         11.28       2       172646.83910   \n",
       "\n",
       "   Income_Category  Age_Group  \n",
       "0                0          0  \n",
       "1                1          0  \n",
       "2                2          1  \n",
       "3                2          2  \n",
       "4                2          2  "
      ]
     },
     "execution_count": 11,
     "metadata": {},
     "output_type": "execute_result"
    }
   ],
   "source": [
    "df1.head(5)"
   ]
  },
  {
   "cell_type": "code",
   "execution_count": 12,
   "metadata": {
    "id": "ndr9mouf6VeW"
   },
   "outputs": [],
   "source": [
    "#Procedemos a realizar limpieza de la segunda base de datos.\n",
    "\n",
    "df2_merged.drop(['Loan_ID','Gender','Dependents','Education','Self_Employed','CoapplicantIncome','LoanAmount','Loan_Amount_Term','Credit_History','Property_Area'],inplace=True, axis=1)\n",
    "df2_merged['Married'].unique()\n",
    "df2_merged.replace(['No', 'Yes', 'nan'],[0,1,0],inplace=True)\n",
    "df2_merged.replace(['Y', 'N', 'nan'],[0,1,0],inplace=True)\n",
    "\n",
    "# Renombramos los nombres de las columnas para que coincidan con el primer dataframe\n",
    "df2_merged.rename(columns = {'Married':'Marital_Status'}, inplace = True)\n",
    "df2_merged.rename(columns = {'ApplicantIncome':'Income'}, inplace = True)\n",
    "df2_merged.rename(columns = {'Loan_Status':'Risk_Flag'}, inplace = True)\n",
    "\n",
    "# El primer dataframe esta constituido por datos de procedencia de la India y el segundo dataframe aparentemente son basados en USA. Por esto el Income del segundo dataframe lo pasamos a rupias, para que tenga sentido\n",
    "df2_merged['Income']=df2_merged['Income']*80*12\n"
   ]
  },
  {
   "cell_type": "code",
   "execution_count": 13,
   "metadata": {
    "colab": {
     "base_uri": "https://localhost:8080/",
     "height": 206
    },
    "id": "zZ1r_1zqCByh",
    "outputId": "c56c32d8-5c93-47a6-d772-a6c72c10022b"
   },
   "outputs": [
    {
     "data": {
      "text/html": [
       "<div>\n",
       "<style scoped>\n",
       "    .dataframe tbody tr th:only-of-type {\n",
       "        vertical-align: middle;\n",
       "    }\n",
       "\n",
       "    .dataframe tbody tr th {\n",
       "        vertical-align: top;\n",
       "    }\n",
       "\n",
       "    .dataframe thead th {\n",
       "        text-align: right;\n",
       "    }\n",
       "</style>\n",
       "<table border=\"1\" class=\"dataframe\">\n",
       "  <thead>\n",
       "    <tr style=\"text-align: right;\">\n",
       "      <th></th>\n",
       "      <th>Marital_Status</th>\n",
       "      <th>Income</th>\n",
       "      <th>Risk_Flag</th>\n",
       "    </tr>\n",
       "  </thead>\n",
       "  <tbody>\n",
       "    <tr>\n",
       "      <th>0</th>\n",
       "      <td>0.0</td>\n",
       "      <td>5615040</td>\n",
       "      <td>0.0</td>\n",
       "    </tr>\n",
       "    <tr>\n",
       "      <th>1</th>\n",
       "      <td>1.0</td>\n",
       "      <td>4399680</td>\n",
       "      <td>1.0</td>\n",
       "    </tr>\n",
       "    <tr>\n",
       "      <th>2</th>\n",
       "      <td>1.0</td>\n",
       "      <td>2880000</td>\n",
       "      <td>0.0</td>\n",
       "    </tr>\n",
       "    <tr>\n",
       "      <th>3</th>\n",
       "      <td>1.0</td>\n",
       "      <td>2479680</td>\n",
       "      <td>0.0</td>\n",
       "    </tr>\n",
       "    <tr>\n",
       "      <th>4</th>\n",
       "      <td>0.0</td>\n",
       "      <td>5760000</td>\n",
       "      <td>0.0</td>\n",
       "    </tr>\n",
       "  </tbody>\n",
       "</table>\n",
       "</div>"
      ],
      "text/plain": [
       "   Marital_Status   Income  Risk_Flag\n",
       "0             0.0  5615040        0.0\n",
       "1             1.0  4399680        1.0\n",
       "2             1.0  2880000        0.0\n",
       "3             1.0  2479680        0.0\n",
       "4             0.0  5760000        0.0"
      ]
     },
     "execution_count": 13,
     "metadata": {},
     "output_type": "execute_result"
    }
   ],
   "source": [
    "df2_merged.head(5)"
   ]
  },
  {
   "cell_type": "code",
   "execution_count": 14,
   "metadata": {
    "colab": {
     "base_uri": "https://localhost:8080/"
    },
    "id": "YMmPIgHD5V3C",
    "outputId": "ec006fb7-9c66-4045-db59-48335cc7bde8"
   },
   "outputs": [
    {
     "data": {
      "text/plain": [
       "(252000, 18)"
      ]
     },
     "execution_count": 14,
     "metadata": {},
     "output_type": "execute_result"
    }
   ],
   "source": [
    "df1.shape"
   ]
  },
  {
   "cell_type": "code",
   "execution_count": 15,
   "metadata": {
    "colab": {
     "base_uri": "https://localhost:8080/",
     "height": 206
    },
    "id": "bjndZPRQ-USc",
    "outputId": "91205c77-30d9-41ae-ca30-3a0221657628"
   },
   "outputs": [
    {
     "data": {
      "text/html": [
       "<div>\n",
       "<style scoped>\n",
       "    .dataframe tbody tr th:only-of-type {\n",
       "        vertical-align: middle;\n",
       "    }\n",
       "\n",
       "    .dataframe tbody tr th {\n",
       "        vertical-align: top;\n",
       "    }\n",
       "\n",
       "    .dataframe thead th {\n",
       "        text-align: right;\n",
       "    }\n",
       "</style>\n",
       "<table border=\"1\" class=\"dataframe\">\n",
       "  <thead>\n",
       "    <tr style=\"text-align: right;\">\n",
       "      <th></th>\n",
       "      <th>Income</th>\n",
       "      <th>Age</th>\n",
       "      <th>Experience</th>\n",
       "      <th>Marital_Status</th>\n",
       "      <th>House_Ownership</th>\n",
       "      <th>Car_Ownership</th>\n",
       "      <th>CURRENT_JOB_YRS</th>\n",
       "      <th>CURRENT_HOUSE_YRS</th>\n",
       "      <th>Risk_Flag</th>\n",
       "      <th>State_GDP</th>\n",
       "      <th>Literacy_Rate</th>\n",
       "      <th>Population</th>\n",
       "      <th>Unemployment</th>\n",
       "      <th>Poverty_Rate</th>\n",
       "      <th>Region</th>\n",
       "      <th>Per_Capita_Income</th>\n",
       "      <th>Income_Category</th>\n",
       "      <th>Age_Group</th>\n",
       "    </tr>\n",
       "  </thead>\n",
       "  <tbody>\n",
       "    <tr>\n",
       "      <th>252976</th>\n",
       "      <td>8208000</td>\n",
       "      <td>NaN</td>\n",
       "      <td>NaN</td>\n",
       "      <td>1.0</td>\n",
       "      <td>NaN</td>\n",
       "      <td>NaN</td>\n",
       "      <td>NaN</td>\n",
       "      <td>NaN</td>\n",
       "      <td>NaN</td>\n",
       "      <td>NaN</td>\n",
       "      <td>NaN</td>\n",
       "      <td>NaN</td>\n",
       "      <td>NaN</td>\n",
       "      <td>NaN</td>\n",
       "      <td>NaN</td>\n",
       "      <td>NaN</td>\n",
       "      <td>NaN</td>\n",
       "      <td>NaN</td>\n",
       "    </tr>\n",
       "    <tr>\n",
       "      <th>252977</th>\n",
       "      <td>2178240</td>\n",
       "      <td>NaN</td>\n",
       "      <td>NaN</td>\n",
       "      <td>1.0</td>\n",
       "      <td>NaN</td>\n",
       "      <td>NaN</td>\n",
       "      <td>NaN</td>\n",
       "      <td>NaN</td>\n",
       "      <td>NaN</td>\n",
       "      <td>NaN</td>\n",
       "      <td>NaN</td>\n",
       "      <td>NaN</td>\n",
       "      <td>NaN</td>\n",
       "      <td>NaN</td>\n",
       "      <td>NaN</td>\n",
       "      <td>NaN</td>\n",
       "      <td>NaN</td>\n",
       "      <td>NaN</td>\n",
       "    </tr>\n",
       "    <tr>\n",
       "      <th>252978</th>\n",
       "      <td>3848640</td>\n",
       "      <td>NaN</td>\n",
       "      <td>NaN</td>\n",
       "      <td>1.0</td>\n",
       "      <td>NaN</td>\n",
       "      <td>NaN</td>\n",
       "      <td>NaN</td>\n",
       "      <td>NaN</td>\n",
       "      <td>NaN</td>\n",
       "      <td>NaN</td>\n",
       "      <td>NaN</td>\n",
       "      <td>NaN</td>\n",
       "      <td>NaN</td>\n",
       "      <td>NaN</td>\n",
       "      <td>NaN</td>\n",
       "      <td>NaN</td>\n",
       "      <td>NaN</td>\n",
       "      <td>NaN</td>\n",
       "    </tr>\n",
       "    <tr>\n",
       "      <th>252979</th>\n",
       "      <td>3991680</td>\n",
       "      <td>NaN</td>\n",
       "      <td>NaN</td>\n",
       "      <td>1.0</td>\n",
       "      <td>NaN</td>\n",
       "      <td>NaN</td>\n",
       "      <td>NaN</td>\n",
       "      <td>NaN</td>\n",
       "      <td>NaN</td>\n",
       "      <td>NaN</td>\n",
       "      <td>NaN</td>\n",
       "      <td>NaN</td>\n",
       "      <td>NaN</td>\n",
       "      <td>NaN</td>\n",
       "      <td>NaN</td>\n",
       "      <td>NaN</td>\n",
       "      <td>NaN</td>\n",
       "      <td>NaN</td>\n",
       "    </tr>\n",
       "    <tr>\n",
       "      <th>252980</th>\n",
       "      <td>8832000</td>\n",
       "      <td>NaN</td>\n",
       "      <td>NaN</td>\n",
       "      <td>0.0</td>\n",
       "      <td>NaN</td>\n",
       "      <td>NaN</td>\n",
       "      <td>NaN</td>\n",
       "      <td>NaN</td>\n",
       "      <td>NaN</td>\n",
       "      <td>NaN</td>\n",
       "      <td>NaN</td>\n",
       "      <td>NaN</td>\n",
       "      <td>NaN</td>\n",
       "      <td>NaN</td>\n",
       "      <td>NaN</td>\n",
       "      <td>NaN</td>\n",
       "      <td>NaN</td>\n",
       "      <td>NaN</td>\n",
       "    </tr>\n",
       "  </tbody>\n",
       "</table>\n",
       "</div>"
      ],
      "text/plain": [
       "         Income  Age  Experience  Marital_Status  House_Ownership  \\\n",
       "252976  8208000  NaN         NaN             1.0              NaN   \n",
       "252977  2178240  NaN         NaN             1.0              NaN   \n",
       "252978  3848640  NaN         NaN             1.0              NaN   \n",
       "252979  3991680  NaN         NaN             1.0              NaN   \n",
       "252980  8832000  NaN         NaN             0.0              NaN   \n",
       "\n",
       "        Car_Ownership  CURRENT_JOB_YRS  CURRENT_HOUSE_YRS  Risk_Flag  \\\n",
       "252976            NaN              NaN                NaN        NaN   \n",
       "252977            NaN              NaN                NaN        NaN   \n",
       "252978            NaN              NaN                NaN        NaN   \n",
       "252979            NaN              NaN                NaN        NaN   \n",
       "252980            NaN              NaN                NaN        NaN   \n",
       "\n",
       "        State_GDP  Literacy_Rate  Population  Unemployment  Poverty_Rate  \\\n",
       "252976        NaN            NaN         NaN           NaN           NaN   \n",
       "252977        NaN            NaN         NaN           NaN           NaN   \n",
       "252978        NaN            NaN         NaN           NaN           NaN   \n",
       "252979        NaN            NaN         NaN           NaN           NaN   \n",
       "252980        NaN            NaN         NaN           NaN           NaN   \n",
       "\n",
       "        Region  Per_Capita_Income  Income_Category  Age_Group  \n",
       "252976     NaN                NaN              NaN        NaN  \n",
       "252977     NaN                NaN              NaN        NaN  \n",
       "252978     NaN                NaN              NaN        NaN  \n",
       "252979     NaN                NaN              NaN        NaN  \n",
       "252980     NaN                NaN              NaN        NaN  "
      ]
     },
     "execution_count": 15,
     "metadata": {},
     "output_type": "execute_result"
    }
   ],
   "source": [
    "#Juntamos el primer y segundo data frame\n",
    "workdf=pd.merge(df1, df2_merged,how=\"outer\")\n",
    "workdf.tail(5)"
   ]
  },
  {
   "cell_type": "code",
   "execution_count": 16,
   "metadata": {
    "colab": {
     "base_uri": "https://localhost:8080/"
    },
    "id": "aqIdysoH6CE7",
    "outputId": "79053372-5423-4f53-8776-3d3bdbf719b5"
   },
   "outputs": [
    {
     "data": {
      "text/plain": [
       "(252981, 18)"
      ]
     },
     "execution_count": 16,
     "metadata": {},
     "output_type": "execute_result"
    }
   ],
   "source": [
    "workdf.shape"
   ]
  },
  {
   "cell_type": "code",
   "execution_count": 17,
   "metadata": {
    "colab": {
     "base_uri": "https://localhost:8080/",
     "height": 206
    },
    "id": "5vFwyi_-6hoL",
    "outputId": "fc845e15-9339-42ea-90d3-2af7015403e1"
   },
   "outputs": [
    {
     "data": {
      "text/html": [
       "<div>\n",
       "<style scoped>\n",
       "    .dataframe tbody tr th:only-of-type {\n",
       "        vertical-align: middle;\n",
       "    }\n",
       "\n",
       "    .dataframe tbody tr th {\n",
       "        vertical-align: top;\n",
       "    }\n",
       "\n",
       "    .dataframe thead th {\n",
       "        text-align: right;\n",
       "    }\n",
       "</style>\n",
       "<table border=\"1\" class=\"dataframe\">\n",
       "  <thead>\n",
       "    <tr style=\"text-align: right;\">\n",
       "      <th></th>\n",
       "      <th>Income</th>\n",
       "      <th>Age</th>\n",
       "      <th>Experience</th>\n",
       "      <th>Marital_Status</th>\n",
       "      <th>House_Ownership</th>\n",
       "      <th>Car_Ownership</th>\n",
       "      <th>CURRENT_JOB_YRS</th>\n",
       "      <th>CURRENT_HOUSE_YRS</th>\n",
       "      <th>Risk_Flag</th>\n",
       "      <th>State_GDP</th>\n",
       "      <th>Literacy_Rate</th>\n",
       "      <th>Population</th>\n",
       "      <th>Unemployment</th>\n",
       "      <th>Poverty_Rate</th>\n",
       "      <th>Region</th>\n",
       "      <th>Per_Capita_Income</th>\n",
       "      <th>Income_Category</th>\n",
       "      <th>Age_Group</th>\n",
       "    </tr>\n",
       "  </thead>\n",
       "  <tbody>\n",
       "    <tr>\n",
       "      <th>252976</th>\n",
       "      <td>8208000</td>\n",
       "      <td>0.0</td>\n",
       "      <td>0.0</td>\n",
       "      <td>1.0</td>\n",
       "      <td>0.0</td>\n",
       "      <td>0.0</td>\n",
       "      <td>0.0</td>\n",
       "      <td>0.0</td>\n",
       "      <td>0.0</td>\n",
       "      <td>0.0</td>\n",
       "      <td>0.0</td>\n",
       "      <td>0.0</td>\n",
       "      <td>0.0</td>\n",
       "      <td>0.0</td>\n",
       "      <td>0.0</td>\n",
       "      <td>0.0</td>\n",
       "      <td>0.0</td>\n",
       "      <td>0.0</td>\n",
       "    </tr>\n",
       "    <tr>\n",
       "      <th>252977</th>\n",
       "      <td>2178240</td>\n",
       "      <td>0.0</td>\n",
       "      <td>0.0</td>\n",
       "      <td>1.0</td>\n",
       "      <td>0.0</td>\n",
       "      <td>0.0</td>\n",
       "      <td>0.0</td>\n",
       "      <td>0.0</td>\n",
       "      <td>0.0</td>\n",
       "      <td>0.0</td>\n",
       "      <td>0.0</td>\n",
       "      <td>0.0</td>\n",
       "      <td>0.0</td>\n",
       "      <td>0.0</td>\n",
       "      <td>0.0</td>\n",
       "      <td>0.0</td>\n",
       "      <td>0.0</td>\n",
       "      <td>0.0</td>\n",
       "    </tr>\n",
       "    <tr>\n",
       "      <th>252978</th>\n",
       "      <td>3848640</td>\n",
       "      <td>0.0</td>\n",
       "      <td>0.0</td>\n",
       "      <td>1.0</td>\n",
       "      <td>0.0</td>\n",
       "      <td>0.0</td>\n",
       "      <td>0.0</td>\n",
       "      <td>0.0</td>\n",
       "      <td>0.0</td>\n",
       "      <td>0.0</td>\n",
       "      <td>0.0</td>\n",
       "      <td>0.0</td>\n",
       "      <td>0.0</td>\n",
       "      <td>0.0</td>\n",
       "      <td>0.0</td>\n",
       "      <td>0.0</td>\n",
       "      <td>0.0</td>\n",
       "      <td>0.0</td>\n",
       "    </tr>\n",
       "    <tr>\n",
       "      <th>252979</th>\n",
       "      <td>3991680</td>\n",
       "      <td>0.0</td>\n",
       "      <td>0.0</td>\n",
       "      <td>1.0</td>\n",
       "      <td>0.0</td>\n",
       "      <td>0.0</td>\n",
       "      <td>0.0</td>\n",
       "      <td>0.0</td>\n",
       "      <td>0.0</td>\n",
       "      <td>0.0</td>\n",
       "      <td>0.0</td>\n",
       "      <td>0.0</td>\n",
       "      <td>0.0</td>\n",
       "      <td>0.0</td>\n",
       "      <td>0.0</td>\n",
       "      <td>0.0</td>\n",
       "      <td>0.0</td>\n",
       "      <td>0.0</td>\n",
       "    </tr>\n",
       "    <tr>\n",
       "      <th>252980</th>\n",
       "      <td>8832000</td>\n",
       "      <td>0.0</td>\n",
       "      <td>0.0</td>\n",
       "      <td>0.0</td>\n",
       "      <td>0.0</td>\n",
       "      <td>0.0</td>\n",
       "      <td>0.0</td>\n",
       "      <td>0.0</td>\n",
       "      <td>0.0</td>\n",
       "      <td>0.0</td>\n",
       "      <td>0.0</td>\n",
       "      <td>0.0</td>\n",
       "      <td>0.0</td>\n",
       "      <td>0.0</td>\n",
       "      <td>0.0</td>\n",
       "      <td>0.0</td>\n",
       "      <td>0.0</td>\n",
       "      <td>0.0</td>\n",
       "    </tr>\n",
       "  </tbody>\n",
       "</table>\n",
       "</div>"
      ],
      "text/plain": [
       "         Income  Age  Experience  Marital_Status  House_Ownership  \\\n",
       "252976  8208000  0.0         0.0             1.0              0.0   \n",
       "252977  2178240  0.0         0.0             1.0              0.0   \n",
       "252978  3848640  0.0         0.0             1.0              0.0   \n",
       "252979  3991680  0.0         0.0             1.0              0.0   \n",
       "252980  8832000  0.0         0.0             0.0              0.0   \n",
       "\n",
       "        Car_Ownership  CURRENT_JOB_YRS  CURRENT_HOUSE_YRS  Risk_Flag  \\\n",
       "252976            0.0              0.0                0.0        0.0   \n",
       "252977            0.0              0.0                0.0        0.0   \n",
       "252978            0.0              0.0                0.0        0.0   \n",
       "252979            0.0              0.0                0.0        0.0   \n",
       "252980            0.0              0.0                0.0        0.0   \n",
       "\n",
       "        State_GDP  Literacy_Rate  Population  Unemployment  Poverty_Rate  \\\n",
       "252976        0.0            0.0         0.0           0.0           0.0   \n",
       "252977        0.0            0.0         0.0           0.0           0.0   \n",
       "252978        0.0            0.0         0.0           0.0           0.0   \n",
       "252979        0.0            0.0         0.0           0.0           0.0   \n",
       "252980        0.0            0.0         0.0           0.0           0.0   \n",
       "\n",
       "        Region  Per_Capita_Income  Income_Category  Age_Group  \n",
       "252976     0.0                0.0              0.0        0.0  \n",
       "252977     0.0                0.0              0.0        0.0  \n",
       "252978     0.0                0.0              0.0        0.0  \n",
       "252979     0.0                0.0              0.0        0.0  \n",
       "252980     0.0                0.0              0.0        0.0  "
      ]
     },
     "execution_count": 17,
     "metadata": {},
     "output_type": "execute_result"
    }
   ],
   "source": [
    "# Sustituire todos los valores NaN como 0 para no perder las filas de los elementos recientemente agregados.\n",
    "\n",
    "workdf = workdf.fillna(0)\n",
    "workdf.tail(5)"
   ]
  },
  {
   "cell_type": "code",
   "execution_count": 18,
   "metadata": {
    "colab": {
     "base_uri": "https://localhost:8080/"
    },
    "id": "Odg4RPAU8_so",
    "outputId": "7ee0ecf0-9482-426f-9d89-920ef1e85afe"
   },
   "outputs": [
    {
     "data": {
      "text/plain": [
       "Income               0\n",
       "Age                  0\n",
       "Experience           0\n",
       "Marital_Status       0\n",
       "House_Ownership      0\n",
       "Car_Ownership        0\n",
       "CURRENT_JOB_YRS      0\n",
       "CURRENT_HOUSE_YRS    0\n",
       "Risk_Flag            0\n",
       "State_GDP            0\n",
       "Literacy_Rate        0\n",
       "Population           0\n",
       "Unemployment         0\n",
       "Poverty_Rate         0\n",
       "Region               0\n",
       "Per_Capita_Income    0\n",
       "Income_Category      0\n",
       "Age_Group            0\n",
       "dtype: int64"
      ]
     },
     "execution_count": 18,
     "metadata": {},
     "output_type": "execute_result"
    }
   ],
   "source": [
    "# Verificamos que ya no hay valores nulos\n",
    "workdf.isnull().sum()"
   ]
  },
  {
   "cell_type": "markdown",
   "metadata": {
    "id": "HajEzASxAshn"
   },
   "source": [
    "### Analisis exploratorio (EDA)\n",
    "#### A) Se presume que distribución de ingresos es normal y no uniforme.\n"
   ]
  },
  {
   "cell_type": "code",
   "execution_count": 19,
   "metadata": {
    "colab": {
     "base_uri": "https://localhost:8080/",
     "height": 489
    },
    "id": "AP5RcmOxACrH",
    "outputId": "d11ca1fe-a1f1-44dc-f709-fa36bcb30f3d"
   },
   "outputs": [
    {
     "data": {
      "text/plain": [
       "[(0.0, 10000000.0)]"
      ]
     },
     "execution_count": 19,
     "metadata": {},
     "output_type": "execute_result"
    },
    {
     "data": {
      "image/png": "[encoded data removed]",
      "text/plain": [
       "<Figure size 432x288 with 1 Axes>"
      ]
     },
     "metadata": {
      "needs_background": "light"
     },
     "output_type": "display_data"
    }
   ],
   "source": [
    "# Analizamos dispersión de columnas\n",
    "distIncomePlot=sns.histplot(workdf['Income'])\n",
    "distIncomePlot.set(title='Distribución de Ingresos',ylabel='Densidad',xlabel='Ingresos')\n",
    "distIncomePlot.set(xlim=(0, 1e7))\n"
   ]
  },
  {
   "cell_type": "markdown",
   "metadata": {
    "id": "Za1c4i6GFEmE"
   },
   "source": [
    "En la gráfica de distribución de ingresos podemos observar un comportamiento uniforme. Debido a que la distribución de salarios es uniforme, no podemos asumir que hay un grupo de salarios que podamos identificar para enfocarnos en este segmento para creditos."
   ]
  },
  {
   "cell_type": "markdown",
   "metadata": {
    "id": "hEHVIRPWFzuj"
   },
   "source": [
    "#### B) Se presume que los ingresos en los diferentes categorias de edad son diferentes."
   ]
  },
  {
   "cell_type": "code",
   "execution_count": 20,
   "metadata": {
    "colab": {
     "base_uri": "https://localhost:8080/",
     "height": 489
    },
    "id": "FWCchHVVFywK",
    "outputId": "519c7170-2096-49a2-c110-f22ceb0aa420"
   },
   "outputs": [
    {
     "data": {
      "text/plain": [
       "[Text(0, 0, 'Jovenes'), Text(1, 0, 'Mayores'), Text(2, 0, 'Señores')]"
      ]
     },
     "execution_count": 20,
     "metadata": {},
     "output_type": "execute_result"
    },
    {
     "data": {
      "image/png": "[encoded data removed]",
      "text/plain": [
       "<Figure size 432x288 with 1 Axes>"
      ]
     },
     "metadata": {
      "needs_background": "light"
     },
     "output_type": "display_data"
    }
   ],
   "source": [
    "ageIncomePlot=sns.barplot(data=workdf, x='Age_Group', y='Income',color='steelblue')\n",
    "ageIncomePlot.set(title='Distribución de Ingresos por Grupos de Edad',ylabel='Ingresos [Rupias]',xlabel='Grupos de Edad')\n",
    "ageIncomePlot.set_xticklabels(['Jovenes','Mayores','Señores'])\n",
    "\n"
   ]
  },
  {
   "cell_type": "markdown",
   "metadata": {
    "id": "py8PGHg0J9A4"
   },
   "source": [
    "En la gráfica de \"Distribución de Ingresos por Grupos de Edad\", podemos ver como el salario no se inclina por un grupo de edad, por lo que podemos determinar que no es un factor determinante para la entrega de un salario."
   ]
  },
  {
   "cell_type": "markdown",
   "metadata": {
    "id": "TaySSjl6KhpT"
   },
   "source": [
    "#### C) Se considera que los casados tienen más dinero que los solteros\n",
    "\n"
   ]
  },
  {
   "cell_type": "code",
   "execution_count": 21,
   "metadata": {
    "colab": {
     "base_uri": "https://localhost:8080/",
     "height": 506
    },
    "id": "y07Y6MCdI1Kj",
    "outputId": "8576e262-d57b-4db5-a082-e8b385eb026c"
   },
   "outputs": [
    {
     "data": {
      "image/png": "[encoded data removed]",
      "text/plain": [
       "<Figure size 439.375x360 with 1 Axes>"
      ]
     },
     "metadata": {
      "needs_background": "light"
     },
     "output_type": "display_data"
    }
   ],
   "source": [
    "\n",
    "z = sns.catplot(\n",
    "    data=workdf, kind=\"bar\",\n",
    "    x=\"Age_Group\", y=\"Income\", hue=\"Marital_Status\"\n",
    ");\n",
    "sns.color_palette(\"mako\", as_cmap=True)\n",
    "z.despine(left=True)\n",
    "z.set_axis_labels(\"Grupos de edad\", \"Ingresos (Rupias)\")\n",
    "z.set_xticklabels(['Jovenes','Mayores','Señores',])\n",
    "\n",
    "z.legend.set_title(\"\")"
   ]
  },
  {
   "cell_type": "markdown",
   "metadata": {
    "id": "k9_WSPblNdxX"
   },
   "source": [
    "En la gráfica de grupos de edad por ingresos y estado civil, podemos observar que los señores cadados, presentan un notable mayor ingreso que los otros grupos por lo que este si puede ser un factor importante para la evaluación de un credito."
   ]
  },
  {
   "cell_type": "markdown",
   "metadata": {
    "id": "Kjbm2hC5OOiv"
   },
   "source": [
    "#### D) Los datos demograficos no tienen relacion con el cumplimiento de los creditos\n",
    "\n",
    "\n"
   ]
  },
  {
   "cell_type": "code",
   "execution_count": 22,
   "metadata": {
    "id": "wZ1Fgg1FOLmf"
   },
   "outputs": [],
   "source": [
    "demograficosWDF=workdf[['Risk_Flag',\t'State_GDP',\t'Literacy_Rate','Population','Unemployment',\t'Poverty_Rate']].copy()\n"
   ]
  },
  {
   "cell_type": "code",
   "execution_count": 23,
   "metadata": {
    "colab": {
     "base_uri": "https://localhost:8080/",
     "height": 562
    },
    "id": "1VxjBeGeRBI0",
    "outputId": "13e846b7-da9f-49ae-8d31-aebaa65f2a0a"
   },
   "outputs": [
    {
     "data": {
      "text/plain": [
       "[Text(0.5, 1.0, 'Mapa de calor con datos demográficos')]"
      ]
     },
     "execution_count": 23,
     "metadata": {},
     "output_type": "execute_result"
    },
    {
     "data": {
      "image/png": "[encoded data removed]",
      "text/plain": [
       "<Figure size 432x288 with 2 Axes>"
      ]
     },
     "metadata": {
      "needs_background": "light"
     },
     "output_type": "display_data"
    }
   ],
   "source": [
    "corrDemograficos= demograficosWDF.corr()\n",
    "corrdPlot=sns.heatmap(corrDemograficos, annot=corrDemograficos.rank(axis=\"columns\"))\n",
    "corrdPlot.set(title='Mapa de calor con datos demográficos')"
   ]
  },
  {
   "cell_type": "markdown",
   "metadata": {
    "id": "VfdaYHZTSgB9"
   },
   "source": [
    "En este caso la aprobación de credito o de riesgo que es la salida que esperamos para la aprobacion de credito es la que observamos. En este caso deacuerdo con los colores todas las variables demograficas se encuentran por un valor menor a 0.2, por lo que podemos decir que no hay una correlación alta en alguna de estas variables."
   ]
  },
  {
   "cell_type": "markdown",
   "metadata": {
    "id": "CqrvHFY-OXe3"
   },
   "source": [
    "#### E) Los datos Personales representan mayor información para la aprobacion de creditos"
   ]
  },
  {
   "cell_type": "code",
   "execution_count": 24,
   "metadata": {
    "id": "xJlQx9ITMQnw"
   },
   "outputs": [],
   "source": [
    "personalesWDF=workdf[['Income', 'Age',\t'Experience',\t'Marital_Status', 'House_Ownership','Car_Ownership', 'CURRENT_JOB_YRS', 'CURRENT_HOUSE_YRS',\t'Risk_Flag']].copy()"
   ]
  },
  {
   "cell_type": "code",
   "execution_count": 25,
   "metadata": {
    "colab": {
     "base_uri": "https://localhost:8080/",
     "height": 612
    },
    "id": "I_YGaNbDUMIj",
    "outputId": "2f231991-70af-4a25-9e1b-15b515b6b356"
   },
   "outputs": [
    {
     "data": {
      "text/plain": [
       "[Text(0.5, 1.0, 'Mapa de calor con datos personales')]"
      ]
     },
     "execution_count": 25,
     "metadata": {},
     "output_type": "execute_result"
    },
    {
     "data": {
      "image/png": "[encoded data removed]",
      "text/plain": [
       "<Figure size 432x288 with 2 Axes>"
      ]
     },
     "metadata": {
      "needs_background": "light"
     },
     "output_type": "display_data"
    }
   ],
   "source": [
    "corrPersonales= personalesWDF.corr()\n",
    "corrPersonalesplot=sns.heatmap(corrPersonales, annot=corrPersonales.rank(axis=\"columns\"))\n",
    "corrPersonalesplot.set(title='Mapa de calor con datos personales')"
   ]
  },
  {
   "cell_type": "markdown",
   "metadata": {
    "id": "BtYxt_khVkSL"
   },
   "source": [
    "Al igual que en los datos personales no hay correlaciones mayores a 0.2 con respecto a riskflak. Es decir los datos no se relacionan de una manera directa. Es por esto que una combinación de variables como por ejemplo grupo de edad y estado civil si tienen una relación.\n",
    "\n",
    "La determinación del credito no puede hacerse por relaciones simples entre datos, sino que tienen que hacerse busquedas más complejas para buscar conjuntos de datos que nos den más información para la entrega de creditos."
   ]
  },
  {
   "cell_type": "markdown",
   "metadata": {
    "id": "DZsGhtkjDIfH"
   },
   "source": [
    "## 4) Ingeniería de atributos (Generando datos sinteticos)"
   ]
  },
  {
   "cell_type": "code",
   "execution_count": 26,
   "metadata": {
    "id": "FMV5a0VhLEpQ"
   },
   "outputs": [],
   "source": [
    "fakemodel=sm.OLS(workdf['Risk_Flag'],workdf['Income']*np.random.rand(workdf.shape[0]))"
   ]
  },
  {
   "cell_type": "code",
   "execution_count": 27,
   "metadata": {
    "id": "2mnNzGlPQJ16"
   },
   "outputs": [],
   "source": [
    "results=fakemodel.fit()"
   ]
  },
  {
   "cell_type": "code",
   "execution_count": 28,
   "metadata": {
    "colab": {
     "base_uri": "https://localhost:8080/"
    },
    "id": "KEI6sAiZPMnp",
    "outputId": "17cbd663-71cb-42b3-998b-1f6da67ed9ce"
   },
   "outputs": [
    {
     "name": "stdout",
     "output_type": "stream",
     "text": [
      "                                 OLS Regression Results                                \n",
      "=======================================================================================\n",
      "Dep. Variable:              Risk_Flag   R-squared (uncentered):                   0.069\n",
      "Model:                            OLS   Adj. R-squared (uncentered):              0.069\n",
      "Method:                 Least Squares   F-statistic:                          1.879e+04\n",
      "Date:                Thu, 05 Oct 2023   Prob (F-statistic):                        0.00\n",
      "Time:                        07:28:30   Log-Likelihood:                         -85120.\n",
      "No. Observations:              252981   AIC:                                  1.702e+05\n",
      "Df Residuals:                  252980   BIC:                                  1.703e+05\n",
      "Df Model:                           1                                                  \n",
      "Covariance Type:            nonrobust                                                  \n",
      "==============================================================================\n",
      "                 coef    std err          t      P>|t|      [0.025      0.975]\n",
      "------------------------------------------------------------------------------\n",
      "Income      2.771e-08   2.02e-10    137.089      0.000    2.73e-08    2.81e-08\n",
      "==============================================================================\n",
      "Omnibus:                    99797.960   Durbin-Watson:                   0.519\n",
      "Prob(Omnibus):                  0.000   Jarque-Bera (JB):           296521.331\n",
      "Skew:                           2.173   Prob(JB):                         0.00\n",
      "Kurtosis:                       6.042   Cond. No.                         1.00\n",
      "==============================================================================\n",
      "\n",
      "Notes:\n",
      "[1] R² is computed without centering (uncentered) since the model does not contain a constant.\n",
      "[2] Standard Errors assume that the covariance matrix of the errors is correctly specified.\n"
     ]
    }
   ],
   "source": [
    "print(results.summary())"
   ]
  },
  {
   "cell_type": "code",
   "execution_count": 29,
   "metadata": {
    "colab": {
     "base_uri": "https://localhost:8080/"
    },
    "id": "uEA0MQT6QBIo",
    "outputId": "394d05e2-423f-4dc4-be68-b36b177b3951"
   },
   "outputs": [
    {
     "data": {
      "text/plain": [
       "0         0.015813\n",
       "1         0.144704\n",
       "2         0.166334\n",
       "3         0.200713\n",
       "4         0.121356\n",
       "            ...   \n",
       "252976    0.213044\n",
       "252977    0.041295\n",
       "252978    0.105910\n",
       "252979    0.017225\n",
       "252980    0.060985\n",
       "Length: 252981, dtype: float64"
      ]
     },
     "execution_count": 29,
     "metadata": {},
     "output_type": "execute_result"
    }
   ],
   "source": [
    "results.fittedvalues"
   ]
  },
  {
   "cell_type": "code",
   "execution_count": 30,
   "metadata": {
    "id": "3GDG874-hy3T"
   },
   "outputs": [],
   "source": [
    "fakedf=pd.DataFrame({\"fakeData\":results.fittedvalues})"
   ]
  },
  {
   "cell_type": "code",
   "execution_count": 31,
   "metadata": {
    "colab": {
     "base_uri": "https://localhost:8080/"
    },
    "id": "klbfhny-irTf",
    "outputId": "11f326b1-84b0-4d4e-b3e5-afd9ae4a55e6"
   },
   "outputs": [
    {
     "name": "stderr",
     "output_type": "stream",
     "text": [
      "C:\\Users\\artur\\AppData\\Local\\Temp\\ipykernel_12100\\1454467420.py:1: FutureWarning: The frame.append method is deprecated and will be removed from pandas in a future version. Use pandas.concat instead.\n",
      "  workdf=workdf.append(fakedf)\n"
     ]
    }
   ],
   "source": [
    "workdf=workdf.append(fakedf)\n"
   ]
  },
  {
   "cell_type": "code",
   "execution_count": 32,
   "metadata": {
    "colab": {
     "base_uri": "https://localhost:8080/"
    },
    "id": "zDIPylTUjGFc",
    "outputId": "eb6d0182-0c11-4fa8-add4-fcaeedbe1efe"
   },
   "outputs": [
    {
     "data": {
      "text/plain": [
       "(505962, 19)"
      ]
     },
     "execution_count": 32,
     "metadata": {},
     "output_type": "execute_result"
    }
   ],
   "source": [
    "workdf = workdf.fillna(0)\n",
    "workdf.shape"
   ]
  },
  {
   "cell_type": "code",
   "execution_count": 33,
   "metadata": {
    "colab": {
     "base_uri": "https://localhost:8080/",
     "height": 424
    },
    "id": "W5aKEw9Rjr98",
    "outputId": "67632f64-2804-4248-df1d-71fdc1627913"
   },
   "outputs": [
    {
     "data": {
      "text/html": [
       "<div>\n",
       "<style scoped>\n",
       "    .dataframe tbody tr th:only-of-type {\n",
       "        vertical-align: middle;\n",
       "    }\n",
       "\n",
       "    .dataframe tbody tr th {\n",
       "        vertical-align: top;\n",
       "    }\n",
       "\n",
       "    .dataframe thead th {\n",
       "        text-align: right;\n",
       "    }\n",
       "</style>\n",
       "<table border=\"1\" class=\"dataframe\">\n",
       "  <thead>\n",
       "    <tr style=\"text-align: right;\">\n",
       "      <th></th>\n",
       "      <th>Income</th>\n",
       "      <th>Age</th>\n",
       "      <th>Experience</th>\n",
       "      <th>Marital_Status</th>\n",
       "      <th>House_Ownership</th>\n",
       "      <th>Car_Ownership</th>\n",
       "      <th>CURRENT_JOB_YRS</th>\n",
       "      <th>CURRENT_HOUSE_YRS</th>\n",
       "      <th>Risk_Flag</th>\n",
       "      <th>State_GDP</th>\n",
       "      <th>Literacy_Rate</th>\n",
       "      <th>Population</th>\n",
       "      <th>Unemployment</th>\n",
       "      <th>Poverty_Rate</th>\n",
       "      <th>Region</th>\n",
       "      <th>Per_Capita_Income</th>\n",
       "      <th>Income_Category</th>\n",
       "      <th>Age_Group</th>\n",
       "      <th>fakeData</th>\n",
       "    </tr>\n",
       "  </thead>\n",
       "  <tbody>\n",
       "    <tr>\n",
       "      <th>0</th>\n",
       "      <td>1303834.0</td>\n",
       "      <td>23.0</td>\n",
       "      <td>3.0</td>\n",
       "      <td>0.0</td>\n",
       "      <td>0.0</td>\n",
       "      <td>0.0</td>\n",
       "      <td>3.0</td>\n",
       "      <td>13.0</td>\n",
       "      <td>0.0</td>\n",
       "      <td>5.645140e+12</td>\n",
       "      <td>75.37</td>\n",
       "      <td>72627000.0</td>\n",
       "      <td>47.0</td>\n",
       "      <td>31.65</td>\n",
       "      <td>0.0</td>\n",
       "      <td>77727.89321</td>\n",
       "      <td>0.0</td>\n",
       "      <td>0.0</td>\n",
       "      <td>0.000000</td>\n",
       "    </tr>\n",
       "    <tr>\n",
       "      <th>1</th>\n",
       "      <td>7574516.0</td>\n",
       "      <td>40.0</td>\n",
       "      <td>10.0</td>\n",
       "      <td>0.0</td>\n",
       "      <td>0.0</td>\n",
       "      <td>0.0</td>\n",
       "      <td>9.0</td>\n",
       "      <td>13.0</td>\n",
       "      <td>0.0</td>\n",
       "      <td>1.889310e+13</td>\n",
       "      <td>94.00</td>\n",
       "      <td>112374000.0</td>\n",
       "      <td>65.0</td>\n",
       "      <td>17.35</td>\n",
       "      <td>1.0</td>\n",
       "      <td>168126.67170</td>\n",
       "      <td>1.0</td>\n",
       "      <td>0.0</td>\n",
       "      <td>0.000000</td>\n",
       "    </tr>\n",
       "    <tr>\n",
       "      <th>2</th>\n",
       "      <td>7574516.0</td>\n",
       "      <td>40.0</td>\n",
       "      <td>10.0</td>\n",
       "      <td>0.0</td>\n",
       "      <td>0.0</td>\n",
       "      <td>0.0</td>\n",
       "      <td>9.0</td>\n",
       "      <td>13.0</td>\n",
       "      <td>0.0</td>\n",
       "      <td>1.889310e+13</td>\n",
       "      <td>94.00</td>\n",
       "      <td>112374000.0</td>\n",
       "      <td>65.0</td>\n",
       "      <td>17.35</td>\n",
       "      <td>1.0</td>\n",
       "      <td>168126.67170</td>\n",
       "      <td>1.0</td>\n",
       "      <td>0.0</td>\n",
       "      <td>0.000000</td>\n",
       "    </tr>\n",
       "    <tr>\n",
       "      <th>3</th>\n",
       "      <td>7574516.0</td>\n",
       "      <td>40.0</td>\n",
       "      <td>10.0</td>\n",
       "      <td>0.0</td>\n",
       "      <td>0.0</td>\n",
       "      <td>0.0</td>\n",
       "      <td>9.0</td>\n",
       "      <td>13.0</td>\n",
       "      <td>0.0</td>\n",
       "      <td>1.889310e+13</td>\n",
       "      <td>94.00</td>\n",
       "      <td>112374000.0</td>\n",
       "      <td>65.0</td>\n",
       "      <td>17.35</td>\n",
       "      <td>1.0</td>\n",
       "      <td>168126.67170</td>\n",
       "      <td>1.0</td>\n",
       "      <td>0.0</td>\n",
       "      <td>0.000000</td>\n",
       "    </tr>\n",
       "    <tr>\n",
       "      <th>4</th>\n",
       "      <td>7574516.0</td>\n",
       "      <td>40.0</td>\n",
       "      <td>10.0</td>\n",
       "      <td>0.0</td>\n",
       "      <td>0.0</td>\n",
       "      <td>0.0</td>\n",
       "      <td>9.0</td>\n",
       "      <td>13.0</td>\n",
       "      <td>0.0</td>\n",
       "      <td>1.889310e+13</td>\n",
       "      <td>94.00</td>\n",
       "      <td>112374000.0</td>\n",
       "      <td>65.0</td>\n",
       "      <td>17.35</td>\n",
       "      <td>1.0</td>\n",
       "      <td>168126.67170</td>\n",
       "      <td>1.0</td>\n",
       "      <td>0.0</td>\n",
       "      <td>0.000000</td>\n",
       "    </tr>\n",
       "    <tr>\n",
       "      <th>...</th>\n",
       "      <td>...</td>\n",
       "      <td>...</td>\n",
       "      <td>...</td>\n",
       "      <td>...</td>\n",
       "      <td>...</td>\n",
       "      <td>...</td>\n",
       "      <td>...</td>\n",
       "      <td>...</td>\n",
       "      <td>...</td>\n",
       "      <td>...</td>\n",
       "      <td>...</td>\n",
       "      <td>...</td>\n",
       "      <td>...</td>\n",
       "      <td>...</td>\n",
       "      <td>...</td>\n",
       "      <td>...</td>\n",
       "      <td>...</td>\n",
       "      <td>...</td>\n",
       "      <td>...</td>\n",
       "    </tr>\n",
       "    <tr>\n",
       "      <th>252976</th>\n",
       "      <td>0.0</td>\n",
       "      <td>0.0</td>\n",
       "      <td>0.0</td>\n",
       "      <td>0.0</td>\n",
       "      <td>0.0</td>\n",
       "      <td>0.0</td>\n",
       "      <td>0.0</td>\n",
       "      <td>0.0</td>\n",
       "      <td>0.0</td>\n",
       "      <td>0.000000e+00</td>\n",
       "      <td>0.00</td>\n",
       "      <td>0.0</td>\n",
       "      <td>0.0</td>\n",
       "      <td>0.00</td>\n",
       "      <td>0.0</td>\n",
       "      <td>0.00000</td>\n",
       "      <td>0.0</td>\n",
       "      <td>0.0</td>\n",
       "      <td>0.213044</td>\n",
       "    </tr>\n",
       "    <tr>\n",
       "      <th>252977</th>\n",
       "      <td>0.0</td>\n",
       "      <td>0.0</td>\n",
       "      <td>0.0</td>\n",
       "      <td>0.0</td>\n",
       "      <td>0.0</td>\n",
       "      <td>0.0</td>\n",
       "      <td>0.0</td>\n",
       "      <td>0.0</td>\n",
       "      <td>0.0</td>\n",
       "      <td>0.000000e+00</td>\n",
       "      <td>0.00</td>\n",
       "      <td>0.0</td>\n",
       "      <td>0.0</td>\n",
       "      <td>0.00</td>\n",
       "      <td>0.0</td>\n",
       "      <td>0.00000</td>\n",
       "      <td>0.0</td>\n",
       "      <td>0.0</td>\n",
       "      <td>0.041295</td>\n",
       "    </tr>\n",
       "    <tr>\n",
       "      <th>252978</th>\n",
       "      <td>0.0</td>\n",
       "      <td>0.0</td>\n",
       "      <td>0.0</td>\n",
       "      <td>0.0</td>\n",
       "      <td>0.0</td>\n",
       "      <td>0.0</td>\n",
       "      <td>0.0</td>\n",
       "      <td>0.0</td>\n",
       "      <td>0.0</td>\n",
       "      <td>0.000000e+00</td>\n",
       "      <td>0.00</td>\n",
       "      <td>0.0</td>\n",
       "      <td>0.0</td>\n",
       "      <td>0.00</td>\n",
       "      <td>0.0</td>\n",
       "      <td>0.00000</td>\n",
       "      <td>0.0</td>\n",
       "      <td>0.0</td>\n",
       "      <td>0.105910</td>\n",
       "    </tr>\n",
       "    <tr>\n",
       "      <th>252979</th>\n",
       "      <td>0.0</td>\n",
       "      <td>0.0</td>\n",
       "      <td>0.0</td>\n",
       "      <td>0.0</td>\n",
       "      <td>0.0</td>\n",
       "      <td>0.0</td>\n",
       "      <td>0.0</td>\n",
       "      <td>0.0</td>\n",
       "      <td>0.0</td>\n",
       "      <td>0.000000e+00</td>\n",
       "      <td>0.00</td>\n",
       "      <td>0.0</td>\n",
       "      <td>0.0</td>\n",
       "      <td>0.00</td>\n",
       "      <td>0.0</td>\n",
       "      <td>0.00000</td>\n",
       "      <td>0.0</td>\n",
       "      <td>0.0</td>\n",
       "      <td>0.017225</td>\n",
       "    </tr>\n",
       "    <tr>\n",
       "      <th>252980</th>\n",
       "      <td>0.0</td>\n",
       "      <td>0.0</td>\n",
       "      <td>0.0</td>\n",
       "      <td>0.0</td>\n",
       "      <td>0.0</td>\n",
       "      <td>0.0</td>\n",
       "      <td>0.0</td>\n",
       "      <td>0.0</td>\n",
       "      <td>0.0</td>\n",
       "      <td>0.000000e+00</td>\n",
       "      <td>0.00</td>\n",
       "      <td>0.0</td>\n",
       "      <td>0.0</td>\n",
       "      <td>0.00</td>\n",
       "      <td>0.0</td>\n",
       "      <td>0.00000</td>\n",
       "      <td>0.0</td>\n",
       "      <td>0.0</td>\n",
       "      <td>0.060985</td>\n",
       "    </tr>\n",
       "  </tbody>\n",
       "</table>\n",
       "<p>505962 rows × 19 columns</p>\n",
       "</div>"
      ],
      "text/plain": [
       "           Income   Age  Experience  Marital_Status  House_Ownership  \\\n",
       "0       1303834.0  23.0         3.0             0.0              0.0   \n",
       "1       7574516.0  40.0        10.0             0.0              0.0   \n",
       "2       7574516.0  40.0        10.0             0.0              0.0   \n",
       "3       7574516.0  40.0        10.0             0.0              0.0   \n",
       "4       7574516.0  40.0        10.0             0.0              0.0   \n",
       "...           ...   ...         ...             ...              ...   \n",
       "252976        0.0   0.0         0.0             0.0              0.0   \n",
       "252977        0.0   0.0         0.0             0.0              0.0   \n",
       "252978        0.0   0.0         0.0             0.0              0.0   \n",
       "252979        0.0   0.0         0.0             0.0              0.0   \n",
       "252980        0.0   0.0         0.0             0.0              0.0   \n",
       "\n",
       "        Car_Ownership  CURRENT_JOB_YRS  CURRENT_HOUSE_YRS  Risk_Flag  \\\n",
       "0                 0.0              3.0               13.0        0.0   \n",
       "1                 0.0              9.0               13.0        0.0   \n",
       "2                 0.0              9.0               13.0        0.0   \n",
       "3                 0.0              9.0               13.0        0.0   \n",
       "4                 0.0              9.0               13.0        0.0   \n",
       "...               ...              ...                ...        ...   \n",
       "252976            0.0              0.0                0.0        0.0   \n",
       "252977            0.0              0.0                0.0        0.0   \n",
       "252978            0.0              0.0                0.0        0.0   \n",
       "252979            0.0              0.0                0.0        0.0   \n",
       "252980            0.0              0.0                0.0        0.0   \n",
       "\n",
       "           State_GDP  Literacy_Rate   Population  Unemployment  Poverty_Rate  \\\n",
       "0       5.645140e+12          75.37   72627000.0          47.0         31.65   \n",
       "1       1.889310e+13          94.00  112374000.0          65.0         17.35   \n",
       "2       1.889310e+13          94.00  112374000.0          65.0         17.35   \n",
       "3       1.889310e+13          94.00  112374000.0          65.0         17.35   \n",
       "4       1.889310e+13          94.00  112374000.0          65.0         17.35   \n",
       "...              ...            ...          ...           ...           ...   \n",
       "252976  0.000000e+00           0.00          0.0           0.0          0.00   \n",
       "252977  0.000000e+00           0.00          0.0           0.0          0.00   \n",
       "252978  0.000000e+00           0.00          0.0           0.0          0.00   \n",
       "252979  0.000000e+00           0.00          0.0           0.0          0.00   \n",
       "252980  0.000000e+00           0.00          0.0           0.0          0.00   \n",
       "\n",
       "        Region  Per_Capita_Income  Income_Category  Age_Group  fakeData  \n",
       "0          0.0        77727.89321              0.0        0.0  0.000000  \n",
       "1          1.0       168126.67170              1.0        0.0  0.000000  \n",
       "2          1.0       168126.67170              1.0        0.0  0.000000  \n",
       "3          1.0       168126.67170              1.0        0.0  0.000000  \n",
       "4          1.0       168126.67170              1.0        0.0  0.000000  \n",
       "...        ...                ...              ...        ...       ...  \n",
       "252976     0.0            0.00000              0.0        0.0  0.213044  \n",
       "252977     0.0            0.00000              0.0        0.0  0.041295  \n",
       "252978     0.0            0.00000              0.0        0.0  0.105910  \n",
       "252979     0.0            0.00000              0.0        0.0  0.017225  \n",
       "252980     0.0            0.00000              0.0        0.0  0.060985  \n",
       "\n",
       "[505962 rows x 19 columns]"
      ]
     },
     "execution_count": 33,
     "metadata": {},
     "output_type": "execute_result"
    }
   ],
   "source": [
    "workdf"
   ]
  },
  {
   "cell_type": "markdown",
   "metadata": {
    "id": "SMe7bDD4Mpwe"
   },
   "source": [
    "## 5) Entrenamiento de modelos"
   ]
  },
  {
   "cell_type": "code",
   "execution_count": 34,
   "metadata": {
    "colab": {
     "base_uri": "https://localhost:8080/"
    },
    "id": "Nxi4a7DmOTS-",
    "outputId": "db308307-8050-4783-8ee6-7879d5b96f69"
   },
   "outputs": [
    {
     "name": "stderr",
     "output_type": "stream",
     "text": [
      "C:\\Users\\artur\\AppData\\Local\\Temp\\ipykernel_12100\\2858956992.py:1: FutureWarning: In a future version of pandas all arguments of DataFrame.drop except for the argument 'labels' will be keyword-only.\n",
      "  input= workdf.drop('Risk_Flag',1)\n"
     ]
    }
   ],
   "source": [
    "input= workdf.drop('Risk_Flag',1)\n",
    "output = workdf['Risk_Flag']"
   ]
  },
  {
   "cell_type": "code",
   "execution_count": 35,
   "metadata": {
    "id": "XDvjO2DJOf6Q"
   },
   "outputs": [],
   "source": [
    "# definimos matriz de diseño X y vector respuesta y\n",
    "X = input\n",
    "y = output\n",
    "# Separamos en entrenamiento/test en razon 80/20 %\n",
    "X_train, X_test, y_train, y_test = train_test_split(X,y,test_size=0.2, random_state=1)"
   ]
  },
  {
   "cell_type": "markdown",
   "metadata": {
    "id": "MGRT3qg0Y0KQ"
   },
   "source": [
    "### K - Nearest Neihgtbors (KNN)"
   ]
  },
  {
   "cell_type": "code",
   "execution_count": 36,
   "metadata": {
    "id": "hVMQODTqRFal"
   },
   "outputs": [],
   "source": [
    "scaler = StandardScaler()\n",
    "X_trainScaled = scaler.fit_transform(X_train)\n",
    "X_testScaled = scaler.transform(X_test)"
   ]
  },
  {
   "cell_type": "code",
   "execution_count": 37,
   "metadata": {
    "colab": {
     "base_uri": "https://localhost:8080/",
     "height": 75
    },
    "id": "TutKtBlyZhwc",
    "outputId": "fff28f68-b890-4418-9e31-fda924682e97"
   },
   "outputs": [
    {
     "data": {
      "text/plain": [
       "KNeighborsClassifier(n_neighbors=3)"
      ]
     },
     "execution_count": 37,
     "metadata": {},
     "output_type": "execute_result"
    }
   ],
   "source": [
    "knn = KNeighborsClassifier(n_neighbors=3)\n",
    "knn.fit(X_trainScaled, y_train)"
   ]
  },
  {
   "cell_type": "code",
   "execution_count": 38,
   "metadata": {
    "colab": {
     "base_uri": "https://localhost:8080/"
    },
    "id": "K4Om5XHHZ4Xv",
    "outputId": "0fb3f525-a612-4ca6-addd-0d1d78632f29"
   },
   "outputs": [
    {
     "name": "stderr",
     "output_type": "stream",
     "text": [
      "D:\\ProgramData\\Anaconda3\\lib\\site-packages\\sklearn\\base.py:443: UserWarning: X has feature names, but KNeighborsClassifier was fitted without feature names\n",
      "  warnings.warn(\n"
     ]
    },
    {
     "name": "stdout",
     "output_type": "stream",
     "text": [
      "Accuracy: 0.9393831589141541\n"
     ]
    }
   ],
   "source": [
    "y_pred = knn.predict(X_test)\n",
    "accuracy = accuracy_score(y_test, y_pred)\n",
    "print(\"Accuracy:\", accuracy)\n"
   ]
  },
  {
   "cell_type": "markdown",
   "metadata": {
    "id": "D6ocFJ2LVl7s"
   },
   "source": [
    "### Random Forest"
   ]
  },
  {
   "cell_type": "code",
   "execution_count": 39,
   "metadata": {
    "id": "smUXEumcVekM"
   },
   "outputs": [],
   "source": [
    "#Creamos un random forest!\n",
    "RandomForestComplete = RandomForestClassifier(random_state=42, n_estimators=100,\n",
    "                               class_weight=\"balanced\", max_features=\"log2\")\n",
    "RandomForestComplete.fit(X_train, y_train)\n",
    "y_test_pred_RandormForestComplete = RandomForestComplete.predict(X_test) #Prediccion en Test"
   ]
  },
  {
   "cell_type": "code",
   "execution_count": 40,
   "metadata": {
    "colab": {
     "base_uri": "https://localhost:8080/"
    },
    "id": "tfUZjF6HWn34",
    "outputId": "94eab8a8-6ad7-4f7e-d28e-7a0777c8d26e"
   },
   "outputs": [
    {
     "name": "stdout",
     "output_type": "stream",
     "text": [
      "% de aciertos sobre el set de evaluación: 0.9469429703635627\n"
     ]
    }
   ],
   "source": [
    "accuracyRandomForestComplete =accuracy_score(y_test, y_test_pred_RandormForestComplete)\n",
    "print('% de aciertos sobre el set de evaluación:',accuracyRandomForestComplete)"
   ]
  },
  {
   "cell_type": "markdown",
   "metadata": {
    "id": "fak8CxsU_32y"
   },
   "source": [
    "### Arboles de decisión"
   ]
  },
  {
   "cell_type": "code",
   "execution_count": 41,
   "metadata": {
    "id": "0cdP3Ud2_2uZ"
   },
   "outputs": [],
   "source": [
    "# Árbol de decisión con todas las variables\n",
    "treeComplete = DecisionTreeClassifier(random_state=42)\n",
    "treeComplete.fit(X_train, y_train)\n",
    "y_test_pred_treeComplete = treeComplete.predict(X_test)"
   ]
  },
  {
   "cell_type": "code",
   "execution_count": 42,
   "metadata": {
    "colab": {
     "base_uri": "https://localhost:8080/"
    },
    "id": "8YdUErwxRenH",
    "outputId": "814656c7-2a98-467b-a5ba-4a6fd6fe6349"
   },
   "outputs": [
    {
     "name": "stdout",
     "output_type": "stream",
     "text": [
      "% de aciertos sobre el set de evaluación: 0.9399365568764638\n"
     ]
    }
   ],
   "source": [
    "accuracyTreeComplete = accuracy_score(y_test, y_test_pred_treeComplete)\n",
    "print('% de aciertos sobre el set de evaluación:',accuracyTreeComplete)"
   ]
  },
  {
   "cell_type": "markdown",
   "metadata": {
    "id": "sceFmmaTpIp-"
   },
   "source": [
    "### SVM"
   ]
  },
  {
   "cell_type": "code",
   "execution_count": 43,
   "metadata": {
    "colab": {
     "base_uri": "https://localhost:8080/",
     "height": 75
    },
    "id": "ov53tElFxJwJ",
    "outputId": "e24e6cf0-176b-42f0-f6bc-d340e492d601"
   },
   "outputs": [
    {
     "data": {
      "text/plain": [
       "SVC(C=0.1, random_state=42)"
      ]
     },
     "execution_count": 43,
     "metadata": {},
     "output_type": "execute_result"
    }
   ],
   "source": [
    "# Creación del modelo SVM\n",
    "modelo = SVC(C=0.1,kernel='rbf',random_state=42)\n",
    "modelo.fit(X_train, y_train)"
   ]
  },
  {
   "cell_type": "code",
   "execution_count": 44,
   "metadata": {
    "id": "kE1J2cOD7unt"
   },
   "outputs": [],
   "source": [
    "y_test_pred = modelo.predict(X_test)"
   ]
  },
  {
   "cell_type": "code",
   "execution_count": 45,
   "metadata": {
    "colab": {
     "base_uri": "https://localhost:8080/"
    },
    "id": "miBNH8h970XS",
    "outputId": "4772e2d5-a179-4c50-bea6-34e7d972e0e3"
   },
   "outputs": [
    {
     "name": "stdout",
     "output_type": "stream",
     "text": [
      "% de aciertos sobre el set de evaluación: 0.9393831589141541\n"
     ]
    }
   ],
   "source": [
    "\n",
    "test_accuracy = accuracy_score(y_test, y_test_pred)\n",
    "print('% de aciertos sobre el set de evaluación:',test_accuracy)"
   ]
  },
  {
   "cell_type": "markdown",
   "metadata": {
    "id": "egddoAsCWXo7"
   },
   "source": [
    "### Feature selection exploratorio\n",
    "\n"
   ]
  },
  {
   "cell_type": "code",
   "execution_count": 46,
   "metadata": {
    "id": "u6VWrPwFWdoy"
   },
   "outputs": [],
   "source": [
    "# Realizando el feature selection\n",
    "def stepwise_selection(data, target,SL_in=0.05,SL_out = 0.05):\n",
    "    initial_features = data.columns.tolist()\n",
    "    best_features = []\n",
    "    while (len(initial_features)>0):\n",
    "        remaining_features = list(set(initial_features)-set(best_features))\n",
    "        new_pval = pd.Series(index=remaining_features)\n",
    "        for new_column in remaining_features:\n",
    "            model = sm.OLS(target, sm.add_constant(data[best_features+[new_column]])).fit()\n",
    "            new_pval[new_column] = model.pvalues[new_column]\n",
    "        min_p_value = new_pval.min()\n",
    "        if(min_p_value<SL_in):\n",
    "            best_features.append(new_pval.idxmin())\n",
    "            while(len(best_features)>0):\n",
    "                best_features_with_constant = sm.add_constant(data[best_features])\n",
    "                p_values = sm.OLS(target, best_features_with_constant).fit().pvalues[1:]\n",
    "                max_p_value = p_values.max()\n",
    "                if(max_p_value >= SL_out):\n",
    "                    excluded_feature = p_values.idxmax()\n",
    "                    best_features.remove(excluded_feature)\n",
    "                else:\n",
    "                    break\n",
    "        else:\n",
    "            break\n",
    "    return best_features"
   ]
  },
  {
   "cell_type": "code",
   "execution_count": 47,
   "metadata": {
    "colab": {
     "base_uri": "https://localhost:8080/",
     "height": 206
    },
    "id": "NEeaTYSxJVMP",
    "outputId": "cf64a4c9-ee45-4894-dde0-a51462d3b67c"
   },
   "outputs": [
    {
     "data": {
      "text/html": [
       "<div>\n",
       "<style scoped>\n",
       "    .dataframe tbody tr th:only-of-type {\n",
       "        vertical-align: middle;\n",
       "    }\n",
       "\n",
       "    .dataframe tbody tr th {\n",
       "        vertical-align: top;\n",
       "    }\n",
       "\n",
       "    .dataframe thead th {\n",
       "        text-align: right;\n",
       "    }\n",
       "</style>\n",
       "<table border=\"1\" class=\"dataframe\">\n",
       "  <thead>\n",
       "    <tr style=\"text-align: right;\">\n",
       "      <th></th>\n",
       "      <th>Income</th>\n",
       "      <th>Age</th>\n",
       "      <th>Experience</th>\n",
       "      <th>Marital_Status</th>\n",
       "      <th>House_Ownership</th>\n",
       "      <th>Car_Ownership</th>\n",
       "      <th>CURRENT_JOB_YRS</th>\n",
       "      <th>CURRENT_HOUSE_YRS</th>\n",
       "      <th>State_GDP</th>\n",
       "      <th>Literacy_Rate</th>\n",
       "      <th>Population</th>\n",
       "      <th>Unemployment</th>\n",
       "      <th>Poverty_Rate</th>\n",
       "      <th>Region</th>\n",
       "      <th>Per_Capita_Income</th>\n",
       "      <th>Income_Category</th>\n",
       "      <th>Age_Group</th>\n",
       "      <th>fakeData</th>\n",
       "    </tr>\n",
       "  </thead>\n",
       "  <tbody>\n",
       "    <tr>\n",
       "      <th>0</th>\n",
       "      <td>1303834.0</td>\n",
       "      <td>23.0</td>\n",
       "      <td>3.0</td>\n",
       "      <td>0.0</td>\n",
       "      <td>0.0</td>\n",
       "      <td>0.0</td>\n",
       "      <td>3.0</td>\n",
       "      <td>13.0</td>\n",
       "      <td>5.645140e+12</td>\n",
       "      <td>75.37</td>\n",
       "      <td>72627000.0</td>\n",
       "      <td>47.0</td>\n",
       "      <td>31.65</td>\n",
       "      <td>0.0</td>\n",
       "      <td>77727.89321</td>\n",
       "      <td>0.0</td>\n",
       "      <td>0.0</td>\n",
       "      <td>0.0</td>\n",
       "    </tr>\n",
       "    <tr>\n",
       "      <th>1</th>\n",
       "      <td>7574516.0</td>\n",
       "      <td>40.0</td>\n",
       "      <td>10.0</td>\n",
       "      <td>0.0</td>\n",
       "      <td>0.0</td>\n",
       "      <td>0.0</td>\n",
       "      <td>9.0</td>\n",
       "      <td>13.0</td>\n",
       "      <td>1.889310e+13</td>\n",
       "      <td>94.00</td>\n",
       "      <td>112374000.0</td>\n",
       "      <td>65.0</td>\n",
       "      <td>17.35</td>\n",
       "      <td>1.0</td>\n",
       "      <td>168126.67170</td>\n",
       "      <td>1.0</td>\n",
       "      <td>0.0</td>\n",
       "      <td>0.0</td>\n",
       "    </tr>\n",
       "    <tr>\n",
       "      <th>2</th>\n",
       "      <td>7574516.0</td>\n",
       "      <td>40.0</td>\n",
       "      <td>10.0</td>\n",
       "      <td>0.0</td>\n",
       "      <td>0.0</td>\n",
       "      <td>0.0</td>\n",
       "      <td>9.0</td>\n",
       "      <td>13.0</td>\n",
       "      <td>1.889310e+13</td>\n",
       "      <td>94.00</td>\n",
       "      <td>112374000.0</td>\n",
       "      <td>65.0</td>\n",
       "      <td>17.35</td>\n",
       "      <td>1.0</td>\n",
       "      <td>168126.67170</td>\n",
       "      <td>1.0</td>\n",
       "      <td>0.0</td>\n",
       "      <td>0.0</td>\n",
       "    </tr>\n",
       "    <tr>\n",
       "      <th>3</th>\n",
       "      <td>7574516.0</td>\n",
       "      <td>40.0</td>\n",
       "      <td>10.0</td>\n",
       "      <td>0.0</td>\n",
       "      <td>0.0</td>\n",
       "      <td>0.0</td>\n",
       "      <td>9.0</td>\n",
       "      <td>13.0</td>\n",
       "      <td>1.889310e+13</td>\n",
       "      <td>94.00</td>\n",
       "      <td>112374000.0</td>\n",
       "      <td>65.0</td>\n",
       "      <td>17.35</td>\n",
       "      <td>1.0</td>\n",
       "      <td>168126.67170</td>\n",
       "      <td>1.0</td>\n",
       "      <td>0.0</td>\n",
       "      <td>0.0</td>\n",
       "    </tr>\n",
       "    <tr>\n",
       "      <th>4</th>\n",
       "      <td>7574516.0</td>\n",
       "      <td>40.0</td>\n",
       "      <td>10.0</td>\n",
       "      <td>0.0</td>\n",
       "      <td>0.0</td>\n",
       "      <td>0.0</td>\n",
       "      <td>9.0</td>\n",
       "      <td>13.0</td>\n",
       "      <td>1.889310e+13</td>\n",
       "      <td>94.00</td>\n",
       "      <td>112374000.0</td>\n",
       "      <td>65.0</td>\n",
       "      <td>17.35</td>\n",
       "      <td>1.0</td>\n",
       "      <td>168126.67170</td>\n",
       "      <td>1.0</td>\n",
       "      <td>0.0</td>\n",
       "      <td>0.0</td>\n",
       "    </tr>\n",
       "  </tbody>\n",
       "</table>\n",
       "</div>"
      ],
      "text/plain": [
       "      Income   Age  Experience  Marital_Status  House_Ownership  \\\n",
       "0  1303834.0  23.0         3.0             0.0              0.0   \n",
       "1  7574516.0  40.0        10.0             0.0              0.0   \n",
       "2  7574516.0  40.0        10.0             0.0              0.0   \n",
       "3  7574516.0  40.0        10.0             0.0              0.0   \n",
       "4  7574516.0  40.0        10.0             0.0              0.0   \n",
       "\n",
       "   Car_Ownership  CURRENT_JOB_YRS  CURRENT_HOUSE_YRS     State_GDP  \\\n",
       "0            0.0              3.0               13.0  5.645140e+12   \n",
       "1            0.0              9.0               13.0  1.889310e+13   \n",
       "2            0.0              9.0               13.0  1.889310e+13   \n",
       "3            0.0              9.0               13.0  1.889310e+13   \n",
       "4            0.0              9.0               13.0  1.889310e+13   \n",
       "\n",
       "   Literacy_Rate   Population  Unemployment  Poverty_Rate  Region  \\\n",
       "0          75.37   72627000.0          47.0         31.65     0.0   \n",
       "1          94.00  112374000.0          65.0         17.35     1.0   \n",
       "2          94.00  112374000.0          65.0         17.35     1.0   \n",
       "3          94.00  112374000.0          65.0         17.35     1.0   \n",
       "4          94.00  112374000.0          65.0         17.35     1.0   \n",
       "\n",
       "   Per_Capita_Income  Income_Category  Age_Group  fakeData  \n",
       "0        77727.89321              0.0        0.0       0.0  \n",
       "1       168126.67170              1.0        0.0       0.0  \n",
       "2       168126.67170              1.0        0.0       0.0  \n",
       "3       168126.67170              1.0        0.0       0.0  \n",
       "4       168126.67170              1.0        0.0       0.0  "
      ]
     },
     "execution_count": 47,
     "metadata": {},
     "output_type": "execute_result"
    }
   ],
   "source": [
    "input.head(5)"
   ]
  },
  {
   "cell_type": "code",
   "execution_count": 48,
   "metadata": {
    "colab": {
     "base_uri": "https://localhost:8080/"
    },
    "id": "tIpNv_arW_tB",
    "outputId": "abdd042d-196f-47d6-82c6-3b5ace14761a"
   },
   "outputs": [
    {
     "name": "stderr",
     "output_type": "stream",
     "text": [
      "C:\\Users\\artur\\AppData\\Local\\Temp\\ipykernel_12100\\2738954046.py:7: FutureWarning: The default dtype for empty Series will be 'object' instead of 'float64' in a future version. Specify a dtype explicitly to silence this warning.\n",
      "  new_pval = pd.Series(index=remaining_features)\n",
      "C:\\Users\\artur\\AppData\\Local\\Temp\\ipykernel_12100\\2738954046.py:7: FutureWarning: The default dtype for empty Series will be 'object' instead of 'float64' in a future version. Specify a dtype explicitly to silence this warning.\n",
      "  new_pval = pd.Series(index=remaining_features)\n",
      "C:\\Users\\artur\\AppData\\Local\\Temp\\ipykernel_12100\\2738954046.py:7: FutureWarning: The default dtype for empty Series will be 'object' instead of 'float64' in a future version. Specify a dtype explicitly to silence this warning.\n",
      "  new_pval = pd.Series(index=remaining_features)\n",
      "C:\\Users\\artur\\AppData\\Local\\Temp\\ipykernel_12100\\2738954046.py:7: FutureWarning: The default dtype for empty Series will be 'object' instead of 'float64' in a future version. Specify a dtype explicitly to silence this warning.\n",
      "  new_pval = pd.Series(index=remaining_features)\n",
      "C:\\Users\\artur\\AppData\\Local\\Temp\\ipykernel_12100\\2738954046.py:7: FutureWarning: The default dtype for empty Series will be 'object' instead of 'float64' in a future version. Specify a dtype explicitly to silence this warning.\n",
      "  new_pval = pd.Series(index=remaining_features)\n",
      "C:\\Users\\artur\\AppData\\Local\\Temp\\ipykernel_12100\\2738954046.py:7: FutureWarning: The default dtype for empty Series will be 'object' instead of 'float64' in a future version. Specify a dtype explicitly to silence this warning.\n",
      "  new_pval = pd.Series(index=remaining_features)\n",
      "C:\\Users\\artur\\AppData\\Local\\Temp\\ipykernel_12100\\2738954046.py:7: FutureWarning: The default dtype for empty Series will be 'object' instead of 'float64' in a future version. Specify a dtype explicitly to silence this warning.\n",
      "  new_pval = pd.Series(index=remaining_features)\n",
      "C:\\Users\\artur\\AppData\\Local\\Temp\\ipykernel_12100\\2738954046.py:7: FutureWarning: The default dtype for empty Series will be 'object' instead of 'float64' in a future version. Specify a dtype explicitly to silence this warning.\n",
      "  new_pval = pd.Series(index=remaining_features)\n",
      "C:\\Users\\artur\\AppData\\Local\\Temp\\ipykernel_12100\\2738954046.py:7: FutureWarning: The default dtype for empty Series will be 'object' instead of 'float64' in a future version. Specify a dtype explicitly to silence this warning.\n",
      "  new_pval = pd.Series(index=remaining_features)\n",
      "C:\\Users\\artur\\AppData\\Local\\Temp\\ipykernel_12100\\2738954046.py:7: FutureWarning: The default dtype for empty Series will be 'object' instead of 'float64' in a future version. Specify a dtype explicitly to silence this warning.\n",
      "  new_pval = pd.Series(index=remaining_features)\n",
      "C:\\Users\\artur\\AppData\\Local\\Temp\\ipykernel_12100\\2738954046.py:7: FutureWarning: The default dtype for empty Series will be 'object' instead of 'float64' in a future version. Specify a dtype explicitly to silence this warning.\n",
      "  new_pval = pd.Series(index=remaining_features)\n",
      "C:\\Users\\artur\\AppData\\Local\\Temp\\ipykernel_12100\\2738954046.py:7: FutureWarning: The default dtype for empty Series will be 'object' instead of 'float64' in a future version. Specify a dtype explicitly to silence this warning.\n",
      "  new_pval = pd.Series(index=remaining_features)\n",
      "C:\\Users\\artur\\AppData\\Local\\Temp\\ipykernel_12100\\2738954046.py:7: FutureWarning: The default dtype for empty Series will be 'object' instead of 'float64' in a future version. Specify a dtype explicitly to silence this warning.\n",
      "  new_pval = pd.Series(index=remaining_features)\n",
      "C:\\Users\\artur\\AppData\\Local\\Temp\\ipykernel_12100\\2738954046.py:7: FutureWarning: The default dtype for empty Series will be 'object' instead of 'float64' in a future version. Specify a dtype explicitly to silence this warning.\n",
      "  new_pval = pd.Series(index=remaining_features)\n",
      "C:\\Users\\artur\\AppData\\Local\\Temp\\ipykernel_12100\\2738954046.py:7: FutureWarning: The default dtype for empty Series will be 'object' instead of 'float64' in a future version. Specify a dtype explicitly to silence this warning.\n",
      "  new_pval = pd.Series(index=remaining_features)\n",
      "C:\\Users\\artur\\AppData\\Local\\Temp\\ipykernel_12100\\2738954046.py:7: FutureWarning: The default dtype for empty Series will be 'object' instead of 'float64' in a future version. Specify a dtype explicitly to silence this warning.\n",
      "  new_pval = pd.Series(index=remaining_features)\n",
      "C:\\Users\\artur\\AppData\\Local\\Temp\\ipykernel_12100\\2738954046.py:7: FutureWarning: The default dtype for empty Series will be 'object' instead of 'float64' in a future version. Specify a dtype explicitly to silence this warning.\n",
      "  new_pval = pd.Series(index=remaining_features)\n",
      "C:\\Users\\artur\\AppData\\Local\\Temp\\ipykernel_12100\\2738954046.py:7: FutureWarning: The default dtype for empty Series will be 'object' instead of 'float64' in a future version. Specify a dtype explicitly to silence this warning.\n",
      "  new_pval = pd.Series(index=remaining_features)\n",
      "C:\\Users\\artur\\AppData\\Local\\Temp\\ipykernel_12100\\2738954046.py:7: FutureWarning: The default dtype for empty Series will be 'object' instead of 'float64' in a future version. Specify a dtype explicitly to silence this warning.\n",
      "  new_pval = pd.Series(index=remaining_features)\n"
     ]
    },
    {
     "name": "stdout",
     "output_type": "stream",
     "text": [
      "['Per_Capita_Income', 'CURRENT_HOUSE_YRS', 'Literacy_Rate', 'Experience', 'House_Ownership', 'Car_Ownership', 'Unemployment', 'Poverty_Rate', 'Marital_Status', 'Age', 'CURRENT_JOB_YRS', 'Income', 'Region', 'State_GDP', 'fakeData', 'Income_Category', 'Age_Group']\n"
     ]
    }
   ],
   "source": [
    "selectedFeatures=stepwise_selection(input,output)\n",
    "print(selectedFeatures)"
   ]
  },
  {
   "cell_type": "markdown",
   "metadata": {
    "id": "xW4WEYWqXeNC"
   },
   "source": [
    "**Variables que representan información importante para el otorgamiento de credito determinado en base aun algoritmo stepwise**\n",
    "\n",
    "\n",
    "['Experience', 'Per_Capita_Income', 'House_Ownership', 'Car_Ownership', 'Age', 'Marital_Status', 'Region', 'Unemployment', 'CURRENT_JOB_YRS', 'State_GDP', 'Income_Category', 'CURRENT_HOUSE_YRS']\n"
   ]
  },
  {
   "cell_type": "code",
   "execution_count": 49,
   "metadata": {
    "colab": {
     "base_uri": "https://localhost:8080/",
     "height": 449
    },
    "id": "lQCR0NWr1JHJ",
    "outputId": "3e4e1d16-fa9c-4965-eb45-e3283a2c6753"
   },
   "outputs": [
    {
     "name": "stderr",
     "output_type": "stream",
     "text": [
      "D:\\ProgramData\\Anaconda3\\lib\\site-packages\\IPython\\core\\pylabtools.py:151: UserWarning: Creating legend with loc=\"best\" can be slow with large amounts of data.\n",
      "  fig.canvas.print_figure(bytes_io, **kw)\n"
     ]
    },
    {
     "data": {
      "image/png": "[encoded data removed]",
      "text/plain": [
       "<Figure size 432x288 with 1 Axes>"
      ]
     },
     "metadata": {
      "needs_background": "light"
     },
     "output_type": "display_data"
    }
   ],
   "source": [
    "ax = sns.scatterplot(x='value', hue='series', y='Risk_Flag',\n",
    "                     data=workdf.melt(value_vars=['Experience', 'Per_Capita_Income','House_Ownership','Car_Ownership', 'Age', 'Marital_Status', 'Region', 'Unemployment', 'CURRENT_JOB_YRS', 'State_GDP', 'Income_Category', 'CURRENT_HOUSE_YRS'],\n",
    "                                    id_vars='Risk_Flag',\n",
    "                                    var_name='series'))"
   ]
  },
  {
   "cell_type": "markdown",
   "metadata": {
    "id": "cMT0thIdjcN5"
   },
   "source": [
    "Nota. No es muy útil la grafica debido a que los rangos de valores en el eje x son muy disparejos. Además de que es una comparación binaria."
   ]
  },
  {
   "cell_type": "markdown",
   "metadata": {
    "id": "upa0jghWsjT5"
   },
   "source": [
    "### Aplicando PCA como tecnica de reduccion de Variables"
   ]
  },
  {
   "cell_type": "code",
   "execution_count": 50,
   "metadata": {
    "id": "bUJPRInVspMg"
   },
   "outputs": [],
   "source": [
    "\n",
    "\n",
    "imputer = SimpleImputer(missing_values=np.nan, strategy='mean')\n"
   ]
  },
  {
   "cell_type": "code",
   "execution_count": 51,
   "metadata": {
    "id": "L9OxuwCr4lqF"
   },
   "outputs": [],
   "source": [
    "# Make a pipeline with imputation and pca\n",
    "pipeline = Pipeline(steps = [('imputer', imputer),\n",
    "             ('pca', PCA())])"
   ]
  },
  {
   "cell_type": "code",
   "execution_count": 52,
   "metadata": {
    "id": "ur_9LH3y0yww"
   },
   "outputs": [],
   "source": [
    "# Fit and transform on the training data\n",
    "train_pca = pipeline.fit_transform(X_train)\n",
    "\n",
    "# transform the testing data\n",
    "test_pca = pipeline.transform(X_test)"
   ]
  },
  {
   "cell_type": "code",
   "execution_count": 53,
   "metadata": {
    "id": "C8ZWKunr1GiK"
   },
   "outputs": [],
   "source": [
    "# Extract the pca object\n",
    "pca = pipeline.named_steps['pca']"
   ]
  },
  {
   "cell_type": "code",
   "execution_count": 54,
   "metadata": {
    "colab": {
     "base_uri": "https://localhost:8080/",
     "height": 718
    },
    "id": "Wun3-6kb1K6H",
    "outputId": "898cb2cb-44c4-4331-b640-77cc8585a0c9"
   },
   "outputs": [
    {
     "data": {
      "image/png": "[encoded data removed]",
      "text/plain": [
       "<Figure size 720x576 with 1 Axes>"
      ]
     },
     "metadata": {
      "needs_background": "light"
     },
     "output_type": "display_data"
    }
   ],
   "source": [
    "plt.figure(figsize = (10, 8))\n",
    "plt.plot(list(range(X_train.shape[1])), np.cumsum(pca.explained_variance_ratio_), 'r-')\n",
    "plt.xlabel('Number of PC'); plt.ylabel('Cumulative Variance Explained');\n",
    "plt.title('Cumulative Variance Explained with PCA');"
   ]
  },
  {
   "cell_type": "code",
   "execution_count": 55,
   "metadata": {
    "colab": {
     "base_uri": "https://localhost:8080/"
    },
    "id": "tyb3hZ1C6XY0",
    "outputId": "2170293c-aafc-4bb3-8e6d-930b91db2c60"
   },
   "outputs": [
    {
     "data": {
      "text/plain": [
       "(404769, 18)"
      ]
     },
     "execution_count": 55,
     "metadata": {},
     "output_type": "execute_result"
    }
   ],
   "source": [
    "train_pca.shape"
   ]
  },
  {
   "cell_type": "code",
   "execution_count": 56,
   "metadata": {
    "id": "0THDRVzN1rDG"
   },
   "outputs": [],
   "source": [
    "# Dataframe of pca results\n",
    "pca_df = pd.DataFrame({'pc_1': train_pca[:, 0], 'pc_2': train_pca[:, 1]})"
   ]
  },
  {
   "cell_type": "code",
   "execution_count": 57,
   "metadata": {
    "colab": {
     "base_uri": "https://localhost:8080/",
     "height": 206
    },
    "id": "PyFFkh376PzS",
    "outputId": "b1f84561-794a-446c-caeb-a2391763a2b5"
   },
   "outputs": [
    {
     "data": {
      "text/html": [
       "<div>\n",
       "<style scoped>\n",
       "    .dataframe tbody tr th:only-of-type {\n",
       "        vertical-align: middle;\n",
       "    }\n",
       "\n",
       "    .dataframe tbody tr th {\n",
       "        vertical-align: top;\n",
       "    }\n",
       "\n",
       "    .dataframe thead th {\n",
       "        text-align: right;\n",
       "    }\n",
       "</style>\n",
       "<table border=\"1\" class=\"dataframe\">\n",
       "  <thead>\n",
       "    <tr style=\"text-align: right;\">\n",
       "      <th></th>\n",
       "      <th>pc_1</th>\n",
       "      <th>pc_2</th>\n",
       "    </tr>\n",
       "  </thead>\n",
       "  <tbody>\n",
       "    <tr>\n",
       "      <th>0</th>\n",
       "      <td>1.008746e+12</td>\n",
       "      <td>-1.436990e+07</td>\n",
       "    </tr>\n",
       "    <tr>\n",
       "      <th>1</th>\n",
       "      <td>-4.135254e+12</td>\n",
       "      <td>-7.130734e+06</td>\n",
       "    </tr>\n",
       "    <tr>\n",
       "      <th>2</th>\n",
       "      <td>6.638646e+12</td>\n",
       "      <td>1.074982e+08</td>\n",
       "    </tr>\n",
       "    <tr>\n",
       "      <th>3</th>\n",
       "      <td>8.320746e+12</td>\n",
       "      <td>-3.348106e+07</td>\n",
       "    </tr>\n",
       "    <tr>\n",
       "      <th>4</th>\n",
       "      <td>-4.135254e+12</td>\n",
       "      <td>-7.130734e+06</td>\n",
       "    </tr>\n",
       "  </tbody>\n",
       "</table>\n",
       "</div>"
      ],
      "text/plain": [
       "           pc_1          pc_2\n",
       "0  1.008746e+12 -1.436990e+07\n",
       "1 -4.135254e+12 -7.130734e+06\n",
       "2  6.638646e+12  1.074982e+08\n",
       "3  8.320746e+12 -3.348106e+07\n",
       "4 -4.135254e+12 -7.130734e+06"
      ]
     },
     "execution_count": 57,
     "metadata": {},
     "output_type": "execute_result"
    }
   ],
   "source": [
    "pca_df.head(5)"
   ]
  },
  {
   "cell_type": "code",
   "execution_count": 58,
   "metadata": {
    "colab": {
     "base_uri": "https://localhost:8080/",
     "height": 514
    },
    "id": "CrJQfxlu1tq6",
    "outputId": "7ab2a188-a274-43f6-95c9-cbb19ff3ff46"
   },
   "outputs": [
    {
     "data": {
      "image/png": "[encoded data removed]",
      "text/plain": [
       "<Figure size 360x360 with 1 Axes>"
      ]
     },
     "metadata": {
      "needs_background": "light"
     },
     "output_type": "display_data"
    }
   ],
   "source": [
    "# Plot pc2 vs pc1 colored by target\n",
    "sns.lmplot(x='pc_1', y='pc_2', data = pca_df, fit_reg=False)\n",
    "plt.title('PC2 vs PC1 ');"
   ]
  },
  {
   "cell_type": "markdown",
   "metadata": {
    "id": "CyW-Z3ankqpQ"
   },
   "source": [
    "### Entrenando los modelos con los selectedfeatures obtenidos"
   ]
  },
  {
   "cell_type": "code",
   "execution_count": 59,
   "metadata": {
    "id": "GbwROHPIkzH6"
   },
   "outputs": [],
   "source": [
    "input2=workdf[selectedFeatures]\n"
   ]
  },
  {
   "cell_type": "code",
   "execution_count": 60,
   "metadata": {
    "colab": {
     "base_uri": "https://localhost:8080/",
     "height": 206
    },
    "id": "uubPj6dWGu83",
    "outputId": "b20c17df-fb42-46f3-b6e6-9c0e64e67e0d"
   },
   "outputs": [
    {
     "data": {
      "text/html": [
       "<div>\n",
       "<style scoped>\n",
       "    .dataframe tbody tr th:only-of-type {\n",
       "        vertical-align: middle;\n",
       "    }\n",
       "\n",
       "    .dataframe tbody tr th {\n",
       "        vertical-align: top;\n",
       "    }\n",
       "\n",
       "    .dataframe thead th {\n",
       "        text-align: right;\n",
       "    }\n",
       "</style>\n",
       "<table border=\"1\" class=\"dataframe\">\n",
       "  <thead>\n",
       "    <tr style=\"text-align: right;\">\n",
       "      <th></th>\n",
       "      <th>Per_Capita_Income</th>\n",
       "      <th>CURRENT_HOUSE_YRS</th>\n",
       "      <th>Literacy_Rate</th>\n",
       "      <th>Experience</th>\n",
       "      <th>House_Ownership</th>\n",
       "      <th>Car_Ownership</th>\n",
       "      <th>Unemployment</th>\n",
       "      <th>Poverty_Rate</th>\n",
       "      <th>Marital_Status</th>\n",
       "      <th>Age</th>\n",
       "      <th>CURRENT_JOB_YRS</th>\n",
       "      <th>Income</th>\n",
       "      <th>Region</th>\n",
       "      <th>State_GDP</th>\n",
       "      <th>fakeData</th>\n",
       "      <th>Income_Category</th>\n",
       "      <th>Age_Group</th>\n",
       "    </tr>\n",
       "  </thead>\n",
       "  <tbody>\n",
       "    <tr>\n",
       "      <th>0</th>\n",
       "      <td>77727.89321</td>\n",
       "      <td>13.0</td>\n",
       "      <td>75.37</td>\n",
       "      <td>3.0</td>\n",
       "      <td>0.0</td>\n",
       "      <td>0.0</td>\n",
       "      <td>47.0</td>\n",
       "      <td>31.65</td>\n",
       "      <td>0.0</td>\n",
       "      <td>23.0</td>\n",
       "      <td>3.0</td>\n",
       "      <td>1303834.0</td>\n",
       "      <td>0.0</td>\n",
       "      <td>5.645140e+12</td>\n",
       "      <td>0.0</td>\n",
       "      <td>0.0</td>\n",
       "      <td>0.0</td>\n",
       "    </tr>\n",
       "    <tr>\n",
       "      <th>1</th>\n",
       "      <td>168126.67170</td>\n",
       "      <td>13.0</td>\n",
       "      <td>94.00</td>\n",
       "      <td>10.0</td>\n",
       "      <td>0.0</td>\n",
       "      <td>0.0</td>\n",
       "      <td>65.0</td>\n",
       "      <td>17.35</td>\n",
       "      <td>0.0</td>\n",
       "      <td>40.0</td>\n",
       "      <td>9.0</td>\n",
       "      <td>7574516.0</td>\n",
       "      <td>1.0</td>\n",
       "      <td>1.889310e+13</td>\n",
       "      <td>0.0</td>\n",
       "      <td>1.0</td>\n",
       "      <td>0.0</td>\n",
       "    </tr>\n",
       "    <tr>\n",
       "      <th>2</th>\n",
       "      <td>168126.67170</td>\n",
       "      <td>13.0</td>\n",
       "      <td>94.00</td>\n",
       "      <td>10.0</td>\n",
       "      <td>0.0</td>\n",
       "      <td>0.0</td>\n",
       "      <td>65.0</td>\n",
       "      <td>17.35</td>\n",
       "      <td>0.0</td>\n",
       "      <td>40.0</td>\n",
       "      <td>9.0</td>\n",
       "      <td>7574516.0</td>\n",
       "      <td>1.0</td>\n",
       "      <td>1.889310e+13</td>\n",
       "      <td>0.0</td>\n",
       "      <td>1.0</td>\n",
       "      <td>0.0</td>\n",
       "    </tr>\n",
       "    <tr>\n",
       "      <th>3</th>\n",
       "      <td>168126.67170</td>\n",
       "      <td>13.0</td>\n",
       "      <td>94.00</td>\n",
       "      <td>10.0</td>\n",
       "      <td>0.0</td>\n",
       "      <td>0.0</td>\n",
       "      <td>65.0</td>\n",
       "      <td>17.35</td>\n",
       "      <td>0.0</td>\n",
       "      <td>40.0</td>\n",
       "      <td>9.0</td>\n",
       "      <td>7574516.0</td>\n",
       "      <td>1.0</td>\n",
       "      <td>1.889310e+13</td>\n",
       "      <td>0.0</td>\n",
       "      <td>1.0</td>\n",
       "      <td>0.0</td>\n",
       "    </tr>\n",
       "    <tr>\n",
       "      <th>4</th>\n",
       "      <td>168126.67170</td>\n",
       "      <td>13.0</td>\n",
       "      <td>94.00</td>\n",
       "      <td>10.0</td>\n",
       "      <td>0.0</td>\n",
       "      <td>0.0</td>\n",
       "      <td>65.0</td>\n",
       "      <td>17.35</td>\n",
       "      <td>0.0</td>\n",
       "      <td>40.0</td>\n",
       "      <td>9.0</td>\n",
       "      <td>7574516.0</td>\n",
       "      <td>1.0</td>\n",
       "      <td>1.889310e+13</td>\n",
       "      <td>0.0</td>\n",
       "      <td>1.0</td>\n",
       "      <td>0.0</td>\n",
       "    </tr>\n",
       "  </tbody>\n",
       "</table>\n",
       "</div>"
      ],
      "text/plain": [
       "   Per_Capita_Income  CURRENT_HOUSE_YRS  Literacy_Rate  Experience  \\\n",
       "0        77727.89321               13.0          75.37         3.0   \n",
       "1       168126.67170               13.0          94.00        10.0   \n",
       "2       168126.67170               13.0          94.00        10.0   \n",
       "3       168126.67170               13.0          94.00        10.0   \n",
       "4       168126.67170               13.0          94.00        10.0   \n",
       "\n",
       "   House_Ownership  Car_Ownership  Unemployment  Poverty_Rate  Marital_Status  \\\n",
       "0              0.0            0.0          47.0         31.65             0.0   \n",
       "1              0.0            0.0          65.0         17.35             0.0   \n",
       "2              0.0            0.0          65.0         17.35             0.0   \n",
       "3              0.0            0.0          65.0         17.35             0.0   \n",
       "4              0.0            0.0          65.0         17.35             0.0   \n",
       "\n",
       "    Age  CURRENT_JOB_YRS     Income  Region     State_GDP  fakeData  \\\n",
       "0  23.0              3.0  1303834.0     0.0  5.645140e+12       0.0   \n",
       "1  40.0              9.0  7574516.0     1.0  1.889310e+13       0.0   \n",
       "2  40.0              9.0  7574516.0     1.0  1.889310e+13       0.0   \n",
       "3  40.0              9.0  7574516.0     1.0  1.889310e+13       0.0   \n",
       "4  40.0              9.0  7574516.0     1.0  1.889310e+13       0.0   \n",
       "\n",
       "   Income_Category  Age_Group  \n",
       "0              0.0        0.0  \n",
       "1              1.0        0.0  \n",
       "2              1.0        0.0  \n",
       "3              1.0        0.0  \n",
       "4              1.0        0.0  "
      ]
     },
     "execution_count": 60,
     "metadata": {},
     "output_type": "execute_result"
    }
   ],
   "source": [
    "input2.head(5)"
   ]
  },
  {
   "cell_type": "code",
   "execution_count": 61,
   "metadata": {
    "id": "f8gCzbyXlNfF"
   },
   "outputs": [],
   "source": [
    "#Separando el dataset 80 - 20%\n",
    "X_train2, X_test2, y_train2, y_test2 = train_test_split(input2,output,test_size=0.2, random_state=1)\n"
   ]
  },
  {
   "cell_type": "markdown",
   "metadata": {
    "id": "GIjJSsiSWWNV"
   },
   "source": [
    "### K - Nearest Neihgtbors (KNN) Selected Features\n",
    "\n",
    "\n",
    "\n"
   ]
  },
  {
   "cell_type": "code",
   "execution_count": 62,
   "metadata": {
    "id": "dOU6in_uYAk3"
   },
   "outputs": [],
   "source": [
    "scaler2 = StandardScaler()\n",
    "X_trainScaled2 = scaler2.fit_transform(X_train2)\n",
    "X_testScaled2 = scaler2.transform(X_test2)"
   ]
  },
  {
   "cell_type": "code",
   "execution_count": 63,
   "metadata": {
    "colab": {
     "base_uri": "https://localhost:8080/",
     "height": 75
    },
    "id": "LrIKHXvZYAk8",
    "outputId": "8d939eab-96dd-4d5e-eceb-f2fc1b018df9"
   },
   "outputs": [
    {
     "data": {
      "text/plain": [
       "KNeighborsClassifier(n_neighbors=3)"
      ]
     },
     "execution_count": 63,
     "metadata": {},
     "output_type": "execute_result"
    }
   ],
   "source": [
    "knnSelectedFeatures = KNeighborsClassifier(n_neighbors=3)\n",
    "knnSelectedFeatures.fit(X_trainScaled2, y_train2)"
   ]
  },
  {
   "cell_type": "code",
   "execution_count": 64,
   "metadata": {
    "colab": {
     "base_uri": "https://localhost:8080/"
    },
    "id": "5Nctfo_7YAk8",
    "outputId": "8fa11096-4b78-4a3c-8f12-8abe170a3756"
   },
   "outputs": [
    {
     "name": "stderr",
     "output_type": "stream",
     "text": [
      "D:\\ProgramData\\Anaconda3\\lib\\site-packages\\sklearn\\base.py:443: UserWarning: X has feature names, but KNeighborsClassifier was fitted without feature names\n",
      "  warnings.warn(\n"
     ]
    },
    {
     "name": "stdout",
     "output_type": "stream",
     "text": [
      "Accuracy: 0.9393831589141541\n"
     ]
    }
   ],
   "source": [
    "y_pred2 = knnSelectedFeatures.predict(X_test2)\n",
    "accuracy = accuracy_score(y_test2, y_pred2)\n",
    "print(\"Accuracy:\", accuracy)\n"
   ]
  },
  {
   "cell_type": "markdown",
   "metadata": {
    "id": "ssnFUPQBWkDI"
   },
   "source": [
    "### Random forest con selected features.\n"
   ]
  },
  {
   "cell_type": "code",
   "execution_count": 65,
   "metadata": {
    "id": "5nt6rHyMTGBV"
   },
   "outputs": [],
   "source": [
    "RandomForestSelectedFeatures = RandomForestClassifier(random_state=42, n_estimators=100,\n",
    "                               class_weight=\"balanced\", max_features=\"log2\")\n",
    "RandomForestSelectedFeatures.fit(X_train2, y_train2)\n",
    "y_test_pred_RandormForestSelectedFeatures = RandomForestSelectedFeatures.predict(X_test2) #Prediccion en Test"
   ]
  },
  {
   "cell_type": "code",
   "execution_count": 66,
   "metadata": {
    "id": "dIXiJlZUX23L"
   },
   "outputs": [],
   "source": [
    "accuracyRandomForestSelectedFeatures= accuracy_score(y_test2, y_test_pred_RandormForestSelectedFeatures)\n"
   ]
  },
  {
   "cell_type": "code",
   "execution_count": 67,
   "metadata": {
    "id": "4xGpjrHgcrNU"
   },
   "outputs": [
    {
     "name": "stdout",
     "output_type": "stream",
     "text": [
      "Accuracy:  0.9470417914282608\n"
     ]
    }
   ],
   "source": [
    "print(\"Accuracy: \", accuracyRandomForestSelectedFeatures)"
   ]
  },
  {
   "cell_type": "markdown",
   "metadata": {
    "id": "ka-0eGvkT_-Z"
   },
   "source": [
    "### Árbol de decisión con selected features\n"
   ]
  },
  {
   "cell_type": "code",
   "execution_count": 68,
   "metadata": {
    "id": "hLHbed6jSR3_"
   },
   "outputs": [],
   "source": [
    "# Árbol de decisión con selected features\n",
    "treeSelectedFeatures = DecisionTreeClassifier(random_state=42)\n",
    "treeSelectedFeatures.fit(X_train2, y_train2)\n",
    "y_test_pred_treeSelectedFeatures = treeSelectedFeatures.predict(X_test2)"
   ]
  },
  {
   "cell_type": "code",
   "execution_count": 69,
   "metadata": {
    "colab": {
     "base_uri": "https://localhost:8080/"
    },
    "id": "txbSkIcs7Lfg",
    "outputId": "a6f8cb87-385a-4c68-ed1a-3923d8018c98"
   },
   "outputs": [
    {
     "name": "stdout",
     "output_type": "stream",
     "text": [
      "% de aciertos sobre el set de evaluación: 0.9399958495152827\n"
     ]
    }
   ],
   "source": [
    "accuracyTreeSelectedFeatures= accuracy_score(y_test2, y_test_pred_treeSelectedFeatures)\n",
    "print('% de aciertos sobre el set de evaluación:',accuracyTreeSelectedFeatures)"
   ]
  },
  {
   "cell_type": "markdown",
   "metadata": {},
   "source": [
    "### SVM con selected features"
   ]
  },
  {
   "cell_type": "code",
   "execution_count": 70,
   "metadata": {
    "colab": {
     "base_uri": "https://localhost:8080/",
     "height": 75
    },
    "id": "fKzgQzQqnNOU",
    "outputId": "00c5d5a1-1be2-4d02-cc2c-2e10ff438739"
   },
   "outputs": [
    {
     "data": {
      "text/plain": [
       "SVC(C=0.1, random_state=42)"
      ]
     },
     "execution_count": 70,
     "metadata": {},
     "output_type": "execute_result"
    }
   ],
   "source": [
    "modelo2 = SVC(C=0.1,kernel='rbf',random_state=42)\n",
    "modelo2.fit(X_train2, y_train2)"
   ]
  },
  {
   "cell_type": "code",
   "execution_count": 71,
   "metadata": {
    "id": "QPfJ1LHfB3-J"
   },
   "outputs": [],
   "source": [
    "y_test_pred2 = modelo2.predict(X_test2)"
   ]
  },
  {
   "cell_type": "code",
   "execution_count": 72,
   "metadata": {
    "colab": {
     "base_uri": "https://localhost:8080/"
    },
    "id": "ASXCEMrhB9s1",
    "outputId": "3161ebd0-1282-43fa-b7a0-5cc2ae39775c"
   },
   "outputs": [
    {
     "name": "stdout",
     "output_type": "stream",
     "text": [
      "% de aciertos sobre el set de evaluación: 0.9393831589141541\n"
     ]
    }
   ],
   "source": [
    "test_accuracy2 = accuracy_score(y_test2, y_test_pred2)\n",
    "print('% de aciertos sobre el set de evaluación:',test_accuracy2)"
   ]
  },
  {
   "cell_type": "markdown",
   "metadata": {
    "id": "4f0TSKYr5DaL"
   },
   "source": [
    "## 6 Model Tuning\n"
   ]
  },
  {
   "cell_type": "markdown",
   "metadata": {
    "id": "KJ1oQieUdUa-"
   },
   "source": [
    "### Usando KFold ¶"
   ]
  },
  {
   "cell_type": "code",
   "execution_count": 73,
   "metadata": {
    "id": "3Qe663W35DaL"
   },
   "outputs": [],
   "source": [
    "X= X_train2\n",
    "y= y_train2\n",
    "#Lets split the data into 5 folds.\n",
    "kf =KFold(n_splits=5, shuffle=True, random_state=42)\n"
   ]
  },
  {
   "cell_type": "markdown",
   "metadata": {
    "id": "dalIAdvZ5DaL"
   },
   "source": [
    "## Modelo Decision Tree"
   ]
  },
  {
   "cell_type": "code",
   "execution_count": 74,
   "metadata": {
    "colab": {
     "base_uri": "https://localhost:8080/"
    },
    "id": "V02ESjdr5DaL",
    "outputId": "c6ef21b0-85b8-4eee-84d7-cb68c7f6a7cc"
   },
   "outputs": [
    {
     "name": "stdout",
     "output_type": "stream",
     "text": [
      "Average score(1): 0.938\n",
      "Average score(2): 0.938\n",
      "Average score(3): 0.938\n",
      "Average score(4): 0.938\n",
      "Average score(5): 0.938\n",
      "Average score(6): 0.938\n",
      "Average score(7): 0.939\n",
      "Average score(8): 0.939\n",
      "Average score(9): 0.939\n",
      "Average score(10): 0.939\n"
     ]
    }
   ],
   "source": [
    "max_depth = [1,2,3,4,5,6,7,8,9,10]\n",
    "\n",
    "for val in max_depth:\n",
    "    score = cross_val_score(tree.DecisionTreeClassifier(max_depth= val, random_state= 42), X, y, cv= kf, scoring=\"accuracy\")\n",
    "    print(f'Average score({val}): {\"{:.3f}\".format(score.mean())}')"
   ]
  },
  {
   "cell_type": "markdown",
   "metadata": {
    "id": "vPEJHEYq5DaL"
   },
   "source": [
    "## Modelo Random Forest"
   ]
  },
  {
   "cell_type": "code",
   "execution_count": 75,
   "metadata": {
    "colab": {
     "base_uri": "https://localhost:8080/"
    },
    "id": "E27fj_Cc5DaL",
    "outputId": "001fc79a-bd54-4028-9fed-7415895b92b4"
   },
   "outputs": [
    {
     "name": "stdout",
     "output_type": "stream",
     "text": [
      "Average score(50): 0.949\n",
      "Average score(100): 0.949\n",
      "Average score(150): 0.949\n",
      "Average score(200): 0.949\n",
      "Average score(250): 0.949\n",
      "Average score(300): 0.949\n",
      "Average score(350): 0.949\n"
     ]
    }
   ],
   "source": [
    "n_estimators = [50, 100, 150, 200, 250, 300, 350]\n",
    "\n",
    "for val in n_estimators:\n",
    "    score = cross_val_score(ensemble.RandomForestClassifier(n_estimators= val, random_state= 42), X, y, cv= kf, scoring=\"accuracy\")\n",
    "    print(f'Average score({val}): {\"{:.3f}\".format(score.mean())}')"
   ]
  },
  {
   "cell_type": "code",
   "execution_count": 80,
   "metadata": {},
   "outputs": [
    {
     "data": {
      "text/plain": [
       "404769"
      ]
     },
     "execution_count": 80,
     "metadata": {},
     "output_type": "execute_result"
    }
   ],
   "source": [
    "len(X_train2)"
   ]
  },
  {
   "cell_type": "code",
   "execution_count": 81,
   "metadata": {},
   "outputs": [
    {
     "data": {
      "text/plain": [
       "404769"
      ]
     },
     "execution_count": 81,
     "metadata": {},
     "output_type": "execute_result"
    }
   ],
   "source": [
    "len(y_train2)"
   ]
  },
  {
   "cell_type": "code",
   "execution_count": 87,
   "metadata": {
    "id": "BBKvuYgp_vsy"
   },
   "outputs": [
    {
     "name": "stdout",
     "output_type": "stream",
     "text": [
      "Fitting 2 folds for each of 18 candidates, totalling 36 fits\n",
      "[CV] END max_depth=None, min_samples_split=2, n_estimators=100; total time=  15.4s\n",
      "[CV] END max_depth=None, min_samples_split=2, n_estimators=100; total time=  15.5s\n",
      "[CV] END max_depth=None, min_samples_split=2, n_estimators=200; total time=  31.8s\n",
      "[CV] END max_depth=None, min_samples_split=2, n_estimators=200; total time=  30.8s\n",
      "[CV] END max_depth=None, min_samples_split=2, n_estimators=300; total time=  46.1s\n",
      "[CV] END max_depth=None, min_samples_split=2, n_estimators=300; total time=  48.9s\n",
      "[CV] END max_depth=None, min_samples_split=5, n_estimators=100; total time=  15.5s\n",
      "[CV] END max_depth=None, min_samples_split=5, n_estimators=100; total time=  15.4s\n",
      "[CV] END max_depth=None, min_samples_split=5, n_estimators=200; total time=  30.6s\n",
      "[CV] END max_depth=None, min_samples_split=5, n_estimators=200; total time=  31.1s\n",
      "[CV] END max_depth=None, min_samples_split=5, n_estimators=300; total time=  47.4s\n",
      "[CV] END max_depth=None, min_samples_split=5, n_estimators=300; total time=  48.0s\n",
      "[CV] END max_depth=10, min_samples_split=2, n_estimators=100; total time=  10.8s\n",
      "[CV] END max_depth=10, min_samples_split=2, n_estimators=100; total time=  10.4s\n",
      "[CV] END max_depth=10, min_samples_split=2, n_estimators=200; total time=  21.5s\n",
      "[CV] END max_depth=10, min_samples_split=2, n_estimators=200; total time=  21.1s\n",
      "[CV] END max_depth=10, min_samples_split=2, n_estimators=300; total time=  34.8s\n",
      "[CV] END max_depth=10, min_samples_split=2, n_estimators=300; total time=  34.6s\n",
      "[CV] END max_depth=10, min_samples_split=5, n_estimators=100; total time=  11.1s\n",
      "[CV] END max_depth=10, min_samples_split=5, n_estimators=100; total time=  10.7s\n",
      "[CV] END max_depth=10, min_samples_split=5, n_estimators=200; total time=  25.5s\n",
      "[CV] END max_depth=10, min_samples_split=5, n_estimators=200; total time=  21.9s\n",
      "[CV] END max_depth=10, min_samples_split=5, n_estimators=300; total time=  31.9s\n",
      "[CV] END max_depth=10, min_samples_split=5, n_estimators=300; total time=  31.8s\n",
      "[CV] END max_depth=20, min_samples_split=2, n_estimators=100; total time=  14.8s\n",
      "[CV] END max_depth=20, min_samples_split=2, n_estimators=100; total time=  15.5s\n",
      "[CV] END max_depth=20, min_samples_split=2, n_estimators=200; total time=  30.4s\n",
      "[CV] END max_depth=20, min_samples_split=2, n_estimators=200; total time=  30.1s\n",
      "[CV] END max_depth=20, min_samples_split=2, n_estimators=300; total time=  44.6s\n",
      "[CV] END max_depth=20, min_samples_split=2, n_estimators=300; total time=  44.7s\n",
      "[CV] END max_depth=20, min_samples_split=5, n_estimators=100; total time=  14.8s\n",
      "[CV] END max_depth=20, min_samples_split=5, n_estimators=100; total time=  14.8s\n",
      "[CV] END max_depth=20, min_samples_split=5, n_estimators=200; total time=  29.6s\n",
      "[CV] END max_depth=20, min_samples_split=5, n_estimators=200; total time=  29.2s\n",
      "[CV] END max_depth=20, min_samples_split=5, n_estimators=300; total time=  44.1s\n",
      "[CV] END max_depth=20, min_samples_split=5, n_estimators=300; total time=  45.3s\n",
      "Best hyperparameters: {'max_depth': None, 'min_samples_split': 5, 'n_estimators': 200}\n",
      "Best score: 0.9486991350377751\n",
      "Testing accuracy: 0.9495024359392448\n"
     ]
    }
   ],
   "source": [
    "# Ahora con GridSearch\n",
    "\n",
    "param_grid = {\n",
    "    'n_estimators': [100, 200, 300],\n",
    "    'max_depth': [None, 10, 20],\n",
    "    'min_samples_split': [2, 5]\n",
    "}\n",
    "\n",
    "clf = RandomForestClassifier()\n",
    "grid_search = GridSearchCV(estimator=clf, param_grid=param_grid, scoring='accuracy', cv=2, verbose=2)\n",
    "\n",
    "# Fit the grid search object to the training data\n",
    "grid_search.fit(X_train2, y_train2)\n",
    "\n",
    "# Print the best hyperparameters and the best score\n",
    "print(\"Best hyperparameters:\", grid_search.best_params_)\n",
    "print(\"Best score:\", grid_search.best_score_)\n",
    "\n",
    "# Re-train the model with the best hyperparameters\n",
    "best_clf = grid_search.best_estimator_\n",
    "best_clf.fit(X_train2, y_train2)\n",
    "\n",
    "# Test the model with the best hyperparameters on the testing data\n",
    "accuracy = best_clf.score(X_test2, y_test2)\n",
    "print(\"Testing accuracy:\", accuracy)"
   ]
  },
  {
   "cell_type": "markdown",
   "metadata": {
    "id": "u68Z_NePRpaQ"
   },
   "source": [
    "## 7 Selección de modelo"
   ]
  },
  {
   "cell_type": "code",
   "execution_count": 88,
   "metadata": {
    "id": "BdygVYPsuiSF"
   },
   "outputs": [],
   "source": [
    "#Calculando el bias-variance\n",
    "\n",
    "#mse_Random, bias_Random, var_Random = bias_variance_decomp(RandomForestSelectedFeatures, X_train2.values, y_train2.values, X_test2.values, y_test2.values, loss='mse', num_rounds=10, random_seed=1)\n",
    "#print('MSE: %.3f' % mse_Random)\n",
    "#print('Bias: %.3f' % bias_Random)\n",
    "#print('Variance: %.3f' % var_Random)\n",
    "\n",
    "avg_expected_loss, avg_bias, avg_var = bias_variance_decomp(\n",
    "        RandomForestSelectedFeatures, X_train2.values, y_train2.values, X_test2.values, y_test2.values,\n",
    "        loss='0-1_loss',\n",
    "        random_seed=123)"
   ]
  },
  {
   "cell_type": "code",
   "execution_count": 89,
   "metadata": {
    "id": "EAmfGeVr5DaK"
   },
   "outputs": [
    {
     "name": "stdout",
     "output_type": "stream",
     "text": [
      "Average expected loss: 0.053\n",
      "Average bias: 0.053\n",
      "Average variance: 0.001\n"
     ]
    }
   ],
   "source": [
    "print('Average expected loss: %.3f' % avg_expected_loss)\n",
    "print('Average bias: %.3f' % avg_bias)\n",
    "print('Average variance: %.3f' % avg_var)"
   ]
  },
  {
   "cell_type": "code",
   "execution_count": 91,
   "metadata": {
    "id": "Si7mmwmvuaSl"
   },
   "outputs": [],
   "source": [
    "#Calculando el bias-variance\n",
    "avg_expected_loss, avg_bias, avg_var = bias_variance_decomp(\n",
    "        treeSelectedFeatures, X_train2.values, y_train2.values, X_test2.values, y_test2.values,\n",
    "        loss='0-1_loss',\n",
    "        random_seed=123)\n"
   ]
  },
  {
   "cell_type": "code",
   "execution_count": 92,
   "metadata": {
    "id": "0vkCj_aqAa0T"
   },
   "outputs": [
    {
     "name": "stdout",
     "output_type": "stream",
     "text": [
      "Average expected loss: 0.060\n",
      "Average bias: 0.051\n",
      "Average variance: 0.030\n"
     ]
    }
   ],
   "source": [
    "print('Average expected loss: %.3f' % avg_expected_loss)\n",
    "print('Average bias: %.3f' % avg_bias)\n",
    "print('Average variance: %.3f' % avg_var)"
   ]
  },
  {
   "cell_type": "markdown",
   "metadata": {
    "id": "DLqA4hpzFxjd"
   },
   "source": [
    "# Conclusión\n",
    "\n",
    "En este caso podemos observar que el porcentaje de clasificacion en los diferentes modelos de entrenamiento entre los features completos y los features seleccionados es muy parecido entre los modelos.\n",
    "\n",
    "El mejor dataset que brinda mejores resultados es el Random Forest con un % de precision de 94% tanto para el set de datos completo y el reducido. Con la nueva columna de datos sinteticos se aumento el % a 94% de precisión.\n",
    "\n",
    "\n",
    "El mejor modelo con precision es el Random Forest y con una menor varianza por lo que se recomienda utilizar. \n",
    "\n",
    "Se puede decir que es unicamente con las variables ['Experience', 'Per_Capita_Income', 'House_Ownership', 'Car_Ownership', 'Age', 'Marital_Status', 'Region', 'Unemployment', 'CURRENT_JOB_YRS', 'State_GDP', 'Income_Category', 'CURRENT_HOUSE_YRS'], solicitadas en un formulario, se podrian agilizar los tramites de prestamo bancario. \n",
    "\n"
   ]
  },
  {
   "cell_type": "code",
   "execution_count": null,
   "metadata": {},
   "outputs": [],
   "source": []
  }
 ],
 "metadata": {
  "accelerator": "GPU",
  "colab": {
   "gpuType": "T4",
   "provenance": []
  },
  "kernelspec": {
   "display_name": "Python 3 (ipykernel)",
   "language": "python",
   "name": "python3"
  },
  "language_info": {
   "codemirror_mode": {
    "name": "ipython",
    "version": 3
   },
   "file_extension": ".py",
   "mimetype": "text/x-python",
   "name": "python",
   "nbconvert_exporter": "python",
   "pygments_lexer": "ipython3",
   "version": "3.9.12"
  }
 },
 "nbformat": 4,
 "nbformat_minor": 4
}
